{
  "cells": [
    {
      "cell_type": "markdown",
      "metadata": {
        "id": "view-in-github",
        "colab_type": "text"
      },
      "source": [
        "<a href=\"https://colab.research.google.com/github/pu-bi/Python-study/blob/main/Gurogu%20Data%20Academy/1_Python_Basic.ipynb\" target=\"_parent\"><img src=\"https://colab.research.google.com/assets/colab-badge.svg\" alt=\"Open In Colab\"/></a>"
      ]
    },
    {
      "cell_type": "markdown",
      "metadata": {
        "id": "hrTKFA15qhWa"
      },
      "source": [
        "<br>\n",
        "\n",
        "#### 0. 특정 함수에 대해 궁금할 때"
      ]
    },
    {
      "cell_type": "code",
      "execution_count": 1,
      "metadata": {
        "collapsed": true,
        "id": "OfyY3CurqhWd"
      },
      "outputs": [],
      "source": [
        "# 이것은 주석입니다."
      ]
    },
    {
      "cell_type": "code",
      "execution_count": 2,
      "metadata": {
        "colab": {
          "base_uri": "https://localhost:8080/"
        },
        "id": "3BLgfFN3qhWf",
        "outputId": "14f461b9-8295-46b5-a40e-ca14c3f3556d"
      },
      "outputs": [
        {
          "output_type": "stream",
          "name": "stdout",
          "text": [
            "\n"
          ]
        }
      ],
      "source": [
        "print() # Shift+Tap"
      ]
    },
    {
      "cell_type": "markdown",
      "metadata": {
        "id": "u_DBIwAKqhWf"
      },
      "source": [
        "<br>\n",
        "\n",
        "#### 1. 기초 데이터 타입"
      ]
    },
    {
      "cell_type": "markdown",
      "metadata": {
        "id": "c-u613tCqhWg"
      },
      "source": [
        "#### 정수형(integer)과 실수형(floats)"
      ]
    },
    {
      "cell_type": "code",
      "execution_count": 3,
      "metadata": {
        "collapsed": true,
        "id": "cRh5XUHpqhWg"
      },
      "outputs": [],
      "source": [
        "x = 3"
      ]
    },
    {
      "cell_type": "code",
      "execution_count": 4,
      "metadata": {
        "colab": {
          "base_uri": "https://localhost:8080/"
        },
        "id": "XA9tv0AzqhWh",
        "outputId": "d388ce74-50fc-43c3-bbbf-5cf933880d24"
      },
      "outputs": [
        {
          "output_type": "execute_result",
          "data": {
            "text/plain": [
              "3"
            ]
          },
          "metadata": {},
          "execution_count": 4
        }
      ],
      "source": [
        "x"
      ]
    },
    {
      "cell_type": "code",
      "execution_count": 5,
      "metadata": {
        "colab": {
          "base_uri": "https://localhost:8080/"
        },
        "id": "_byhz5DfqhWh",
        "outputId": "7bdb8095-ef8c-4a7f-85fc-15c6f9b148b5"
      },
      "outputs": [
        {
          "output_type": "execute_result",
          "data": {
            "text/plain": [
              "int"
            ]
          },
          "metadata": {},
          "execution_count": 5
        }
      ],
      "source": [
        "type(x)"
      ]
    },
    {
      "cell_type": "code",
      "execution_count": 6,
      "metadata": {
        "colab": {
          "base_uri": "https://localhost:8080/"
        },
        "id": "l-biIQjFqhWi",
        "outputId": "04ed1320-ec9a-49a0-fd5d-1d16960aaf9d"
      },
      "outputs": [
        {
          "output_type": "execute_result",
          "data": {
            "text/plain": [
              "4"
            ]
          },
          "metadata": {},
          "execution_count": 6
        }
      ],
      "source": [
        "x+1"
      ]
    },
    {
      "cell_type": "code",
      "execution_count": 7,
      "metadata": {
        "colab": {
          "base_uri": "https://localhost:8080/"
        },
        "id": "qeR_90w1qhWi",
        "outputId": "53ae73a1-7370-4535-bed2-f059836c3755"
      },
      "outputs": [
        {
          "output_type": "execute_result",
          "data": {
            "text/plain": [
              "6"
            ]
          },
          "metadata": {},
          "execution_count": 7
        }
      ],
      "source": [
        "x*2"
      ]
    },
    {
      "cell_type": "code",
      "execution_count": 8,
      "metadata": {
        "colab": {
          "base_uri": "https://localhost:8080/"
        },
        "id": "kBieNINIqhWj",
        "outputId": "266f33ac-4944-4540-e83a-39ef0ee37bef"
      },
      "outputs": [
        {
          "output_type": "execute_result",
          "data": {
            "text/plain": [
              "9"
            ]
          },
          "metadata": {},
          "execution_count": 8
        }
      ],
      "source": [
        "x**2"
      ]
    },
    {
      "cell_type": "code",
      "execution_count": 9,
      "metadata": {
        "colab": {
          "base_uri": "https://localhost:8080/"
        },
        "id": "qe-HmpTKqhWj",
        "outputId": "9782f119-dddd-4215-e329-3ccc82b7c37a"
      },
      "outputs": [
        {
          "output_type": "execute_result",
          "data": {
            "text/plain": [
              "4"
            ]
          },
          "metadata": {},
          "execution_count": 9
        }
      ],
      "source": [
        "x += 1\n",
        "x"
      ]
    },
    {
      "cell_type": "code",
      "execution_count": 10,
      "metadata": {
        "colab": {
          "base_uri": "https://localhost:8080/"
        },
        "id": "Dmt1LHT7qhWk",
        "outputId": "b127a16e-8d5e-41c7-a862-2468c1b834a0"
      },
      "outputs": [
        {
          "output_type": "execute_result",
          "data": {
            "text/plain": [
              "8"
            ]
          },
          "metadata": {},
          "execution_count": 10
        }
      ],
      "source": [
        "x *= 2\n",
        "x"
      ]
    },
    {
      "cell_type": "code",
      "execution_count": 11,
      "metadata": {
        "collapsed": true,
        "id": "wRTVpdWmqhWk"
      },
      "outputs": [],
      "source": [
        "x = 9"
      ]
    },
    {
      "cell_type": "code",
      "execution_count": 12,
      "metadata": {
        "colab": {
          "base_uri": "https://localhost:8080/"
        },
        "id": "ypR0qWFzqhWk",
        "outputId": "7bb7e7f4-c6c0-4038-c073-8872d53c270c"
      },
      "outputs": [
        {
          "output_type": "execute_result",
          "data": {
            "text/plain": [
              "4.5"
            ]
          },
          "metadata": {},
          "execution_count": 12
        }
      ],
      "source": [
        "x / 2 "
      ]
    },
    {
      "cell_type": "code",
      "execution_count": 13,
      "metadata": {
        "colab": {
          "base_uri": "https://localhost:8080/"
        },
        "id": "N7J8SpKbqhWk",
        "outputId": "92de8404-1395-4d73-f128-9b27ba69f98a",
        "scrolled": false
      },
      "outputs": [
        {
          "output_type": "execute_result",
          "data": {
            "text/plain": [
              "1"
            ]
          },
          "metadata": {},
          "execution_count": 13
        }
      ],
      "source": [
        "x % 2 # 나머지"
      ]
    },
    {
      "cell_type": "code",
      "execution_count": 14,
      "metadata": {
        "id": "dkwHA703qhWl"
      },
      "outputs": [],
      "source": [
        "y = 2.5"
      ]
    },
    {
      "cell_type": "code",
      "execution_count": 15,
      "metadata": {
        "colab": {
          "base_uri": "https://localhost:8080/"
        },
        "id": "TkIJvkJKqhWl",
        "outputId": "24dacfc4-babb-4d0f-af53-aa8daa8ba673"
      },
      "outputs": [
        {
          "output_type": "execute_result",
          "data": {
            "text/plain": [
              "float"
            ]
          },
          "metadata": {},
          "execution_count": 15
        }
      ],
      "source": [
        "type(2.5)"
      ]
    },
    {
      "cell_type": "code",
      "execution_count": 16,
      "metadata": {
        "colab": {
          "base_uri": "https://localhost:8080/"
        },
        "id": "hVKvlZomqhWl",
        "outputId": "877844d9-d68a-42e7-d369-dfd4325c1176"
      },
      "outputs": [
        {
          "output_type": "execute_result",
          "data": {
            "text/plain": [
              "2"
            ]
          },
          "metadata": {},
          "execution_count": 16
        }
      ],
      "source": [
        "# y를 정수 자료형으로 바꾸려면?\n",
        "int(y) # from float to integer"
      ]
    },
    {
      "cell_type": "code",
      "execution_count": 17,
      "metadata": {
        "colab": {
          "base_uri": "https://localhost:8080/"
        },
        "id": "V4-8YhzwqhWm",
        "outputId": "e54f1173-df44-4d14-843a-8f3a22b9fdbb"
      },
      "outputs": [
        {
          "output_type": "execute_result",
          "data": {
            "text/plain": [
              "9.0"
            ]
          },
          "metadata": {},
          "execution_count": 17
        }
      ],
      "source": [
        "x = 9 \n",
        "float(x)"
      ]
    },
    {
      "cell_type": "code",
      "execution_count": 18,
      "metadata": {
        "colab": {
          "base_uri": "https://localhost:8080/"
        },
        "id": "OzXPRgQ3qhWm",
        "outputId": "d32c4ef4-39cb-4767-d734-436013788b18"
      },
      "outputs": [
        {
          "output_type": "stream",
          "name": "stdout",
          "text": [
            "2.5 3.5 5.0 6.25\n"
          ]
        }
      ],
      "source": [
        "print(y, y+1, y*2, y**2)"
      ]
    },
    {
      "cell_type": "markdown",
      "metadata": {
        "id": "Vnm_9P2wqhWm"
      },
      "source": [
        "#### 문자열 (string)"
      ]
    },
    {
      "cell_type": "code",
      "execution_count": 19,
      "metadata": {
        "collapsed": true,
        "id": "4TT_OKIHqhWm"
      },
      "outputs": [],
      "source": [
        "s = \"Hello\""
      ]
    },
    {
      "cell_type": "code",
      "execution_count": 20,
      "metadata": {
        "colab": {
          "base_uri": "https://localhost:8080/"
        },
        "id": "R-x_orF5qhWm",
        "outputId": "565a5195-4e17-4ce0-ce96-24ee9767a4cc"
      },
      "outputs": [
        {
          "output_type": "stream",
          "name": "stdout",
          "text": [
            "Hello\n",
            "<class 'str'>\n"
          ]
        }
      ],
      "source": [
        "print(s)\n",
        "print(type(s))"
      ]
    },
    {
      "cell_type": "code",
      "execution_count": 21,
      "metadata": {
        "colab": {
          "base_uri": "https://localhost:8080/"
        },
        "id": "FJUNzt-xqhWn",
        "outputId": "0e727b9e-8d42-4545-a7c4-c4fc58daa2cf"
      },
      "outputs": [
        {
          "output_type": "execute_result",
          "data": {
            "text/plain": [
              "5"
            ]
          },
          "metadata": {},
          "execution_count": 21
        }
      ],
      "source": [
        "len(s)"
      ]
    },
    {
      "cell_type": "code",
      "execution_count": 22,
      "metadata": {
        "colab": {
          "base_uri": "https://localhost:8080/",
          "height": 35
        },
        "id": "j6-PTr1dqhWn",
        "outputId": "b9f5e482-fac9-4b42-99b4-db8dec97990a"
      },
      "outputs": [
        {
          "output_type": "execute_result",
          "data": {
            "text/plain": [
              "'HELLO'"
            ],
            "application/vnd.google.colaboratory.intrinsic+json": {
              "type": "string"
            }
          },
          "metadata": {},
          "execution_count": 22
        }
      ],
      "source": [
        "s.upper()"
      ]
    },
    {
      "cell_type": "code",
      "execution_count": 23,
      "metadata": {
        "colab": {
          "base_uri": "https://localhost:8080/",
          "height": 35
        },
        "id": "opAatPjLqhWn",
        "outputId": "0fc09f33-1ea0-4db0-b609-6b1968e8c8eb"
      },
      "outputs": [
        {
          "output_type": "execute_result",
          "data": {
            "text/plain": [
              "'hello'"
            ],
            "application/vnd.google.colaboratory.intrinsic+json": {
              "type": "string"
            }
          },
          "metadata": {},
          "execution_count": 23
        }
      ],
      "source": [
        "s.lower()"
      ]
    },
    {
      "cell_type": "code",
      "execution_count": 24,
      "metadata": {
        "colab": {
          "base_uri": "https://localhost:8080/"
        },
        "id": "4uRlrXgTqhWn",
        "outputId": "7f7408a5-edae-43a1-c0b4-2d7b74fbc98b"
      },
      "outputs": [
        {
          "output_type": "stream",
          "name": "stdout",
          "text": [
            "My name is Groot\n"
          ]
        }
      ],
      "source": [
        "print(\"My name is {}\".format(\"Groot\"))"
      ]
    },
    {
      "cell_type": "code",
      "execution_count": 25,
      "metadata": {
        "colab": {
          "base_uri": "https://localhost:8080/"
        },
        "id": "b4JKoWKNqhWn",
        "outputId": "784c193b-7197-4a48-c1a3-680ba6983f82"
      },
      "outputs": [
        {
          "output_type": "stream",
          "name": "stdout",
          "text": [
            "My name is Groot and I'm 99 years old\n"
          ]
        }
      ],
      "source": [
        "print(\"My name is {} and I'm {} years old\".format(\"Groot\", 99))"
      ]
    },
    {
      "cell_type": "code",
      "execution_count": 26,
      "metadata": {
        "colab": {
          "base_uri": "https://localhost:8080/"
        },
        "id": "cgQA6BhJqhWo",
        "outputId": "f9be6906-ba77-42a5-b0a9-a12e41b6d260"
      },
      "outputs": [
        {
          "output_type": "stream",
          "name": "stdout",
          "text": [
            "Hello world\n"
          ]
        }
      ],
      "source": [
        "print(\"Hello\" + \" \" + \"world\")"
      ]
    },
    {
      "cell_type": "code",
      "execution_count": 27,
      "metadata": {
        "collapsed": true,
        "id": "rAtwGUt6qhWo"
      },
      "outputs": [],
      "source": [
        "temp = \"Python\""
      ]
    },
    {
      "cell_type": "code",
      "execution_count": 28,
      "metadata": {
        "colab": {
          "base_uri": "https://localhost:8080/",
          "height": 35
        },
        "id": "puXeawz4qhWo",
        "outputId": "13708a1e-52e8-425c-fcc8-5f4200003904"
      },
      "outputs": [
        {
          "output_type": "execute_result",
          "data": {
            "text/plain": [
              "'P'"
            ],
            "application/vnd.google.colaboratory.intrinsic+json": {
              "type": "string"
            }
          },
          "metadata": {},
          "execution_count": 28
        }
      ],
      "source": [
        "temp[0]"
      ]
    },
    {
      "cell_type": "code",
      "execution_count": 29,
      "metadata": {
        "colab": {
          "base_uri": "https://localhost:8080/",
          "height": 35
        },
        "id": "zFe2yokdqhWo",
        "outputId": "4e5cb2ac-7f4d-4af6-cb4e-c4962c52d643"
      },
      "outputs": [
        {
          "output_type": "execute_result",
          "data": {
            "text/plain": [
              "'Pyth'"
            ],
            "application/vnd.google.colaboratory.intrinsic+json": {
              "type": "string"
            }
          },
          "metadata": {},
          "execution_count": 29
        }
      ],
      "source": [
        "temp[0:4]"
      ]
    },
    {
      "cell_type": "code",
      "execution_count": 30,
      "metadata": {
        "colab": {
          "base_uri": "https://localhost:8080/"
        },
        "id": "ZbUA6F0xqhWo",
        "outputId": "ffdcaa74-749f-4534-cdb3-d87d3725cae9"
      },
      "outputs": [
        {
          "output_type": "execute_result",
          "data": {
            "text/plain": [
              "['Python', 'is', 'easy']"
            ]
          },
          "metadata": {},
          "execution_count": 30
        }
      ],
      "source": [
        "temp = \"Python is easy\"\n",
        "temp.split()"
      ]
    },
    {
      "cell_type": "code",
      "execution_count": 31,
      "metadata": {
        "colab": {
          "base_uri": "https://localhost:8080/"
        },
        "id": "XWBd-EZvqhWo",
        "outputId": "8a31b179-ac65-4386-bd21-36d7d6778e86"
      },
      "outputs": [
        {
          "output_type": "execute_result",
          "data": {
            "text/plain": [
              "['Python', ' is', ' easy']"
            ]
          },
          "metadata": {},
          "execution_count": 31
        }
      ],
      "source": [
        "temp = \"Python, is, easy\"\n",
        "temp.split(\",\")"
      ]
    },
    {
      "cell_type": "code",
      "execution_count": 32,
      "metadata": {
        "colab": {
          "base_uri": "https://localhost:8080/",
          "height": 35
        },
        "id": "0H4Q_ISLqhWp",
        "outputId": "416429b7-54d8-4fdd-808d-900a911d8849"
      },
      "outputs": [
        {
          "output_type": "execute_result",
          "data": {
            "text/plain": [
              "'Python#is#easy'"
            ],
            "application/vnd.google.colaboratory.intrinsic+json": {
              "type": "string"
            }
          },
          "metadata": {},
          "execution_count": 32
        }
      ],
      "source": [
        "temp = ['Python', 'is', 'easy']\n",
        "'#'.join(temp)"
      ]
    },
    {
      "cell_type": "code",
      "execution_count": 33,
      "metadata": {
        "colab": {
          "base_uri": "https://localhost:8080/",
          "height": 35
        },
        "id": "2g9cdMyZqhWp",
        "outputId": "cd8b0f37-a0e4-42a2-d1ea-5f2de798780b"
      },
      "outputs": [
        {
          "output_type": "execute_result",
          "data": {
            "text/plain": [
              "'Python is easy'"
            ],
            "application/vnd.google.colaboratory.intrinsic+json": {
              "type": "string"
            }
          },
          "metadata": {},
          "execution_count": 33
        }
      ],
      "source": [
        "' '.join(temp)"
      ]
    },
    {
      "cell_type": "code",
      "execution_count": 34,
      "metadata": {
        "colab": {
          "base_uri": "https://localhost:8080/",
          "height": 35
        },
        "id": "VHxXS5mNqhWp",
        "outputId": "d787ec46-2549-4a38-c4b3-240fc052486d"
      },
      "outputs": [
        {
          "output_type": "execute_result",
          "data": {
            "text/plain": [
              "'214'"
            ],
            "application/vnd.google.colaboratory.intrinsic+json": {
              "type": "string"
            }
          },
          "metadata": {},
          "execution_count": 34
        }
      ],
      "source": [
        "x = 214\n",
        "str(x)"
      ]
    },
    {
      "cell_type": "markdown",
      "metadata": {
        "id": "zke7XntzqhWp"
      },
      "source": [
        "#### 참/거짓 (bool)"
      ]
    },
    {
      "cell_type": "code",
      "execution_count": 35,
      "metadata": {
        "collapsed": true,
        "id": "RPj5nSVcqhWp"
      },
      "outputs": [],
      "source": [
        "t = True\n",
        "f = False"
      ]
    },
    {
      "cell_type": "code",
      "execution_count": 36,
      "metadata": {
        "colab": {
          "base_uri": "https://localhost:8080/"
        },
        "id": "Ao2SIEXlqhWp",
        "outputId": "f834c660-0b86-4b59-c4dc-1425f9e84a78"
      },
      "outputs": [
        {
          "output_type": "stream",
          "name": "stdout",
          "text": [
            "<class 'bool'>\n"
          ]
        }
      ],
      "source": [
        "print(type(t))"
      ]
    },
    {
      "cell_type": "code",
      "execution_count": 37,
      "metadata": {
        "colab": {
          "base_uri": "https://localhost:8080/"
        },
        "id": "esrpyynQqhWq",
        "outputId": "a108b65d-1c32-4273-e741-21d10fddbcb3"
      },
      "outputs": [
        {
          "output_type": "stream",
          "name": "stdout",
          "text": [
            "False\n"
          ]
        }
      ],
      "source": [
        "print(t and f)"
      ]
    },
    {
      "cell_type": "code",
      "execution_count": 38,
      "metadata": {
        "colab": {
          "base_uri": "https://localhost:8080/"
        },
        "id": "YcypnjvgqhWq",
        "outputId": "7d1d6bea-dc87-417c-bab6-354cdbaa58f2"
      },
      "outputs": [
        {
          "output_type": "stream",
          "name": "stdout",
          "text": [
            "True\n"
          ]
        }
      ],
      "source": [
        "print(t or f)"
      ]
    },
    {
      "cell_type": "code",
      "execution_count": 39,
      "metadata": {
        "colab": {
          "base_uri": "https://localhost:8080/"
        },
        "id": "hiig3aUdqhWq",
        "outputId": "774d6ba0-ee6a-4c1c-ace0-af906b2e0438"
      },
      "outputs": [
        {
          "output_type": "stream",
          "name": "stdout",
          "text": [
            "False\n"
          ]
        }
      ],
      "source": [
        "print(not t)"
      ]
    },
    {
      "cell_type": "markdown",
      "metadata": {
        "id": "wWeJdgXqqhWq"
      },
      "source": [
        "<br>\n",
        "\n",
        "#### 2. 함수 (function, method)"
      ]
    },
    {
      "cell_type": "code",
      "execution_count": 40,
      "metadata": {
        "collapsed": true,
        "id": "ye1NwT77qhWq"
      },
      "outputs": [],
      "source": [
        "def just_print():\n",
        "    print(\"Yes, I'm groot\")"
      ]
    },
    {
      "cell_type": "code",
      "execution_count": 41,
      "metadata": {
        "colab": {
          "base_uri": "https://localhost:8080/"
        },
        "id": "HM5537ysqhWr",
        "outputId": "f4606503-0434-497e-e783-eb44e1f9b38a"
      },
      "outputs": [
        {
          "output_type": "stream",
          "name": "stdout",
          "text": [
            "Yes, I'm groot\n"
          ]
        }
      ],
      "source": [
        "just_print()"
      ]
    },
    {
      "cell_type": "code",
      "execution_count": 42,
      "metadata": {
        "collapsed": true,
        "id": "X5Vps4fHqhWr"
      },
      "outputs": [],
      "source": [
        "def add_nums(x, y):\n",
        "    print(x+y)"
      ]
    },
    {
      "cell_type": "code",
      "execution_count": 43,
      "metadata": {
        "colab": {
          "base_uri": "https://localhost:8080/"
        },
        "id": "_oU62N5GqhWr",
        "outputId": "1479a465-7784-41d9-86cd-1b81484477a0"
      },
      "outputs": [
        {
          "output_type": "stream",
          "name": "stdout",
          "text": [
            "5\n"
          ]
        }
      ],
      "source": [
        "add_nums(2, 3)"
      ]
    },
    {
      "cell_type": "code",
      "execution_count": 44,
      "metadata": {
        "collapsed": true,
        "id": "S5l-J5y5qhWr"
      },
      "outputs": [],
      "source": [
        "def add_nums(x, y):\n",
        "    return x+y"
      ]
    },
    {
      "cell_type": "code",
      "execution_count": 45,
      "metadata": {
        "collapsed": true,
        "id": "P_pjEFMdqhWr"
      },
      "outputs": [],
      "source": [
        "a = add_nums(3, 4)"
      ]
    },
    {
      "cell_type": "code",
      "execution_count": 46,
      "metadata": {
        "colab": {
          "base_uri": "https://localhost:8080/"
        },
        "id": "hWQtBpUUqhWr",
        "outputId": "11a0fa8a-8aab-41f2-e4d1-70612637e698"
      },
      "outputs": [
        {
          "output_type": "execute_result",
          "data": {
            "text/plain": [
              "7"
            ]
          },
          "metadata": {},
          "execution_count": 46
        }
      ],
      "source": [
        "a"
      ]
    },
    {
      "cell_type": "code",
      "execution_count": 47,
      "metadata": {
        "collapsed": true,
        "id": "arvwMHy0qhWr"
      },
      "outputs": [],
      "source": [
        "# Quiz 1. 성과 이름을 받아 이름을 출력해주는 함수 name_creater 만들기\n",
        "\n",
        "def name_creater(last, first):\n",
        "    print(last + first)"
      ]
    },
    {
      "cell_type": "code",
      "execution_count": 48,
      "metadata": {
        "colab": {
          "base_uri": "https://localhost:8080/"
        },
        "id": "v-80TAVYqhWs",
        "outputId": "a51ab6cf-307c-476c-928d-e2d908a03353"
      },
      "outputs": [
        {
          "output_type": "stream",
          "name": "stdout",
          "text": [
            "그루트\n"
          ]
        }
      ],
      "source": [
        "name_creater(\"그\", \"루트\")"
      ]
    },
    {
      "cell_type": "code",
      "execution_count": 49,
      "metadata": {
        "id": "saPIW11PqhWs"
      },
      "outputs": [],
      "source": [
        "# Quiz 2. 다음 함수는 에러를 출력합니다. 어디를 고쳐야할까요?\n",
        "def drink():\n",
        "  beverage = \"Coke\"\n",
        "  print(beverage)"
      ]
    },
    {
      "cell_type": "code",
      "execution_count": 50,
      "metadata": {
        "collapsed": true,
        "id": "6vj-RPYhqhWs"
      },
      "outputs": [],
      "source": [
        "# Quiz 3. 원의 반지름을 받아 원의 넓이를 Return 해주는 함수 circle_area 만들기 (ㅠ = 3.14)\n",
        "def circle_area(r):\n",
        "    return r ** 2 * 3.14"
      ]
    },
    {
      "cell_type": "code",
      "execution_count": 51,
      "metadata": {
        "colab": {
          "base_uri": "https://localhost:8080/"
        },
        "id": "jzzTu_32qhWs",
        "outputId": "3d53338c-34ca-4c04-df75-138393409a21"
      },
      "outputs": [
        {
          "output_type": "execute_result",
          "data": {
            "text/plain": [
              "314.0"
            ]
          },
          "metadata": {},
          "execution_count": 51
        }
      ],
      "source": [
        "circle_area(10)"
      ]
    },
    {
      "cell_type": "markdown",
      "metadata": {
        "id": "fNWsS3DLqhWs"
      },
      "source": [
        "<br>\n",
        "#### 3. 컨테이너 (다른 변수들을 담을 수 있는 자료형)\n",
        "list, dict, tuple, set"
      ]
    },
    {
      "cell_type": "markdown",
      "metadata": {
        "id": "zFzMBdVKqhWs"
      },
      "source": [
        "#### 리스트 (list)"
      ]
    },
    {
      "cell_type": "code",
      "execution_count": 52,
      "metadata": {
        "colab": {
          "base_uri": "https://localhost:8080/"
        },
        "id": "psLFG8GqqhWt",
        "outputId": "55b93f54-cbfb-4f3b-bb40-a401e155d78e"
      },
      "outputs": [
        {
          "output_type": "execute_result",
          "data": {
            "text/plain": [
              "[3, 1, 2, 4, 6]"
            ]
          },
          "metadata": {},
          "execution_count": 52
        }
      ],
      "source": [
        "x = [3, 1, 2, 4, 6]\n",
        "x"
      ]
    },
    {
      "cell_type": "code",
      "execution_count": 53,
      "metadata": {
        "colab": {
          "base_uri": "https://localhost:8080/"
        },
        "id": "OJ3V_XOJqhWt",
        "outputId": "0c8865b2-7338-4d43-bb29-fb89a77d4791"
      },
      "outputs": [
        {
          "output_type": "execute_result",
          "data": {
            "text/plain": [
              "3"
            ]
          },
          "metadata": {},
          "execution_count": 53
        }
      ],
      "source": [
        "x[0]"
      ]
    },
    {
      "cell_type": "code",
      "execution_count": 54,
      "metadata": {
        "colab": {
          "base_uri": "https://localhost:8080/"
        },
        "id": "khasYeygqhWt",
        "outputId": "b560cd18-e1a8-48ae-863a-c2ac0722b3d7"
      },
      "outputs": [
        {
          "output_type": "execute_result",
          "data": {
            "text/plain": [
              "[3, 1, 2]"
            ]
          },
          "metadata": {},
          "execution_count": 54
        }
      ],
      "source": [
        "x[0:3]"
      ]
    },
    {
      "cell_type": "code",
      "execution_count": 55,
      "metadata": {
        "colab": {
          "base_uri": "https://localhost:8080/"
        },
        "id": "ab-h9nAnqhWt",
        "outputId": "4941e869-3ef9-4c60-effe-64aa4639a031"
      },
      "outputs": [
        {
          "output_type": "execute_result",
          "data": {
            "text/plain": [
              "[1, 2, 4, 6]"
            ]
          },
          "metadata": {},
          "execution_count": 55
        }
      ],
      "source": [
        "x[1:]"
      ]
    },
    {
      "cell_type": "code",
      "execution_count": 56,
      "metadata": {
        "colab": {
          "base_uri": "https://localhost:8080/"
        },
        "id": "QvdJxRSZqhWt",
        "outputId": "3a71e2c5-a2c6-4c21-bc6b-65c8bd7ee994"
      },
      "outputs": [
        {
          "output_type": "execute_result",
          "data": {
            "text/plain": [
              "6"
            ]
          },
          "metadata": {},
          "execution_count": 56
        }
      ],
      "source": [
        "x[-1]"
      ]
    },
    {
      "cell_type": "code",
      "execution_count": 57,
      "metadata": {
        "colab": {
          "base_uri": "https://localhost:8080/"
        },
        "id": "tv53JL8bqhWt",
        "outputId": "5fccd684-19d9-4faa-de0e-c77e1d3c22aa"
      },
      "outputs": [
        {
          "output_type": "execute_result",
          "data": {
            "text/plain": [
              "[3, 1, 2, 4, 6, 10]"
            ]
          },
          "metadata": {},
          "execution_count": 57
        }
      ],
      "source": [
        "# 리스트 item 추가하기\n",
        "\n",
        "x.append(10) \n",
        "x"
      ]
    },
    {
      "cell_type": "code",
      "execution_count": 58,
      "metadata": {
        "colab": {
          "base_uri": "https://localhost:8080/"
        },
        "id": "BTNdg2LbqhWu",
        "outputId": "2730d90a-2d5d-4ffb-b495-90245ef3d9eb"
      },
      "outputs": [
        {
          "output_type": "execute_result",
          "data": {
            "text/plain": [
              "[1, 2, 4, 6, 10]"
            ]
          },
          "metadata": {},
          "execution_count": 58
        }
      ],
      "source": [
        "del x[0]\n",
        "x"
      ]
    },
    {
      "cell_type": "code",
      "execution_count": 59,
      "metadata": {
        "colab": {
          "base_uri": "https://localhost:8080/"
        },
        "id": "GZ_YaYqIqhWu",
        "outputId": "05254a0e-0419-4492-a617-7bfa4a62e176"
      },
      "outputs": [
        {
          "output_type": "execute_result",
          "data": {
            "text/plain": [
              "[1, 2, 6, 10]"
            ]
          },
          "metadata": {},
          "execution_count": 59
        }
      ],
      "source": [
        "x.remove(4)\n",
        "x"
      ]
    },
    {
      "cell_type": "code",
      "execution_count": 60,
      "metadata": {
        "colab": {
          "base_uri": "https://localhost:8080/"
        },
        "id": "So3vusOPqhWu",
        "outputId": "4c93436c-8ffa-4c9a-f6e8-ee806015aa0a"
      },
      "outputs": [
        {
          "output_type": "execute_result",
          "data": {
            "text/plain": [
              "[1, 2, 6, 10, 3, 4, 5]"
            ]
          },
          "metadata": {},
          "execution_count": 60
        }
      ],
      "source": [
        "# 리스트 합치기\n",
        "y = [3, 4, 5]\n",
        "z = x + y\n",
        "z"
      ]
    },
    {
      "cell_type": "code",
      "execution_count": 61,
      "metadata": {
        "colab": {
          "base_uri": "https://localhost:8080/"
        },
        "id": "dvqEklyCqhWu",
        "outputId": "64d5ba9d-cc66-4c99-816c-0c9d6e8b5b58"
      },
      "outputs": [
        {
          "output_type": "execute_result",
          "data": {
            "text/plain": [
              "[1, 2, 3, 4, 5, 6, 10]"
            ]
          },
          "metadata": {},
          "execution_count": 61
        }
      ],
      "source": [
        "# 리스트 정렬하기\n",
        "z.sort()\n",
        "z"
      ]
    },
    {
      "cell_type": "code",
      "execution_count": 62,
      "metadata": {
        "colab": {
          "base_uri": "https://localhost:8080/"
        },
        "id": "arS9heGuqhWu",
        "outputId": "8d121d7f-0456-4257-c76f-60e289e8ddb3"
      },
      "outputs": [
        {
          "output_type": "execute_result",
          "data": {
            "text/plain": [
              "[10, 6, 5, 4, 3, 2, 1]"
            ]
          },
          "metadata": {},
          "execution_count": 62
        }
      ],
      "source": [
        "# 리스트 역으로 정렬하기\n",
        "z.sort(reverse=True)\n",
        "z"
      ]
    },
    {
      "cell_type": "markdown",
      "metadata": {
        "id": "eJIm6O1CqhWv"
      },
      "source": [
        "#### 딕셔너리 (dict)"
      ]
    },
    {
      "cell_type": "code",
      "execution_count": 63,
      "metadata": {
        "colab": {
          "base_uri": "https://localhost:8080/"
        },
        "id": "1ezoYdu4qhWv",
        "outputId": "8d933388-00d6-4d5e-d303-a54c2bcae8c5"
      },
      "outputs": [
        {
          "output_type": "execute_result",
          "data": {
            "text/plain": [
              "{'Cat': '야옹', 'Dog': '멍멍'}"
            ]
          },
          "metadata": {},
          "execution_count": 63
        }
      ],
      "source": [
        "cage = {'Cat' : '야옹', 'Dog' : '멍멍'}\n",
        "cage"
      ]
    },
    {
      "cell_type": "code",
      "execution_count": 64,
      "metadata": {
        "colab": {
          "base_uri": "https://localhost:8080/",
          "height": 35
        },
        "id": "TMBDVyFUqhWv",
        "outputId": "d0dbe0c2-3293-454a-a768-9849717624b5"
      },
      "outputs": [
        {
          "output_type": "execute_result",
          "data": {
            "text/plain": [
              "'야옹'"
            ],
            "application/vnd.google.colaboratory.intrinsic+json": {
              "type": "string"
            }
          },
          "metadata": {},
          "execution_count": 64
        }
      ],
      "source": [
        "cage['Cat']"
      ]
    },
    {
      "cell_type": "code",
      "execution_count": 65,
      "metadata": {
        "colab": {
          "base_uri": "https://localhost:8080/",
          "height": 35
        },
        "id": "gqSgC5pgqhWv",
        "outputId": "1aba6f1f-b62f-48e2-92b9-5dd5f25b035b"
      },
      "outputs": [
        {
          "output_type": "execute_result",
          "data": {
            "text/plain": [
              "'야옹'"
            ],
            "application/vnd.google.colaboratory.intrinsic+json": {
              "type": "string"
            }
          },
          "metadata": {},
          "execution_count": 65
        }
      ],
      "source": [
        "cage.get('Cat')"
      ]
    },
    {
      "cell_type": "code",
      "execution_count": 66,
      "metadata": {
        "colab": {
          "base_uri": "https://localhost:8080/",
          "height": 35
        },
        "id": "fwhHUm1nqhWw",
        "outputId": "c2a422d7-0f88-4aad-88cf-2fd0dd3e875a"
      },
      "outputs": [
        {
          "output_type": "execute_result",
          "data": {
            "text/plain": [
              "'집나감'"
            ],
            "application/vnd.google.colaboratory.intrinsic+json": {
              "type": "string"
            }
          },
          "metadata": {},
          "execution_count": 66
        }
      ],
      "source": [
        "cage.get('Fish', '집나감')"
      ]
    },
    {
      "cell_type": "code",
      "execution_count": 67,
      "metadata": {
        "colab": {
          "base_uri": "https://localhost:8080/"
        },
        "id": "5Ql_KelQqhWw",
        "outputId": "70622cbc-fab2-4de4-dc53-02b72973d213"
      },
      "outputs": [
        {
          "output_type": "stream",
          "name": "stdout",
          "text": [
            "False\n"
          ]
        }
      ],
      "source": [
        "print('Pig' in cage)"
      ]
    },
    {
      "cell_type": "code",
      "execution_count": 68,
      "metadata": {
        "colab": {
          "base_uri": "https://localhost:8080/"
        },
        "id": "Pf0fRC5rqhWw",
        "outputId": "a54d22b4-e184-400f-f554-95c082296ca6"
      },
      "outputs": [
        {
          "output_type": "execute_result",
          "data": {
            "text/plain": [
              "{'Cat': '야옹', 'Dog': '멍멍', 'Pig': '꿀꿀'}"
            ]
          },
          "metadata": {},
          "execution_count": 68
        }
      ],
      "source": [
        "cage['Pig'] = '꿀꿀'\n",
        "cage"
      ]
    },
    {
      "cell_type": "code",
      "execution_count": 69,
      "metadata": {
        "id": "6d0lYwJ6qhWw",
        "colab": {
          "base_uri": "https://localhost:8080/"
        },
        "outputId": "1e18a31e-e2a0-4299-bbb0-5f399e793477"
      },
      "outputs": [
        {
          "output_type": "execute_result",
          "data": {
            "text/plain": [
              "{'Cat': '야옹', 'Dog': '멍멍'}"
            ]
          },
          "metadata": {},
          "execution_count": 69
        }
      ],
      "source": [
        "del cage['Pig']\n",
        "cage"
      ]
    },
    {
      "cell_type": "code",
      "execution_count": 70,
      "metadata": {
        "id": "V0NfonnuqhWw",
        "colab": {
          "base_uri": "https://localhost:8080/"
        },
        "outputId": "486f0adb-d60d-4c75-a62f-f1bee657d7d2"
      },
      "outputs": [
        {
          "output_type": "execute_result",
          "data": {
            "text/plain": [
              "dict_keys(['Cat', 'Dog'])"
            ]
          },
          "metadata": {},
          "execution_count": 70
        }
      ],
      "source": [
        "cage.keys()"
      ]
    },
    {
      "cell_type": "code",
      "execution_count": 71,
      "metadata": {
        "id": "-ZLSRyU5qhWw",
        "colab": {
          "base_uri": "https://localhost:8080/"
        },
        "outputId": "d89f0eb1-c6f8-4184-9e0a-83cd9f416b89"
      },
      "outputs": [
        {
          "output_type": "execute_result",
          "data": {
            "text/plain": [
              "dict_values(['야옹', '멍멍'])"
            ]
          },
          "metadata": {},
          "execution_count": 71
        }
      ],
      "source": [
        "cage.values()"
      ]
    },
    {
      "cell_type": "code",
      "execution_count": 72,
      "metadata": {
        "id": "BEcuPzsFqhWx",
        "colab": {
          "base_uri": "https://localhost:8080/"
        },
        "outputId": "8b69d787-7562-4316-dd0d-66496f38e5ff"
      },
      "outputs": [
        {
          "output_type": "execute_result",
          "data": {
            "text/plain": [
              "{'Cat': '야옹', 'Dog': '멍멍', 'Tiger': '어흥'}"
            ]
          },
          "metadata": {},
          "execution_count": 72
        }
      ],
      "source": [
        "# list -> dict\n",
        "\n",
        "temp = [['Cat', '야옹'], ['Dog', '멍멍'], ['Tiger', '어흥']]\n",
        "cage = dict(temp)\n",
        "cage"
      ]
    },
    {
      "cell_type": "markdown",
      "metadata": {
        "id": "73zHQTofqhWx"
      },
      "source": [
        "#### 튜플(tuple) \n",
        "값과 크기가 변하지 않음"
      ]
    },
    {
      "cell_type": "code",
      "execution_count": 73,
      "metadata": {
        "id": "02jbXbj6qhWx",
        "colab": {
          "base_uri": "https://localhost:8080/"
        },
        "outputId": "e93057e4-6db2-4e08-a395-068a1920976b"
      },
      "outputs": [
        {
          "output_type": "execute_result",
          "data": {
            "text/plain": [
              "tuple"
            ]
          },
          "metadata": {},
          "execution_count": 73
        }
      ],
      "source": [
        "t = (5, 6)\n",
        "type(t)"
      ]
    },
    {
      "cell_type": "code",
      "execution_count": 74,
      "metadata": {
        "id": "uRcBxBgTqhWx",
        "colab": {
          "base_uri": "https://localhost:8080/"
        },
        "outputId": "e5843fc7-1298-438b-e146-5676f71eb7f1"
      },
      "outputs": [
        {
          "output_type": "execute_result",
          "data": {
            "text/plain": [
              "5"
            ]
          },
          "metadata": {},
          "execution_count": 74
        }
      ],
      "source": [
        "t[0]"
      ]
    },
    {
      "cell_type": "code",
      "execution_count": 75,
      "metadata": {
        "collapsed": true,
        "id": "D6TqUDHaqhWx"
      },
      "outputs": [],
      "source": [
        "def return_tuple(x, y):\n",
        "    return x, y"
      ]
    },
    {
      "cell_type": "code",
      "execution_count": 76,
      "metadata": {
        "id": "oHm6fqk6qhWx",
        "colab": {
          "base_uri": "https://localhost:8080/"
        },
        "outputId": "b21bb7ed-9a31-4583-9313-c145105e26d3"
      },
      "outputs": [
        {
          "output_type": "execute_result",
          "data": {
            "text/plain": [
              "(3, 4)"
            ]
          },
          "metadata": {},
          "execution_count": 76
        }
      ],
      "source": [
        "what = return_tuple(3, 4)\n",
        "what"
      ]
    },
    {
      "cell_type": "markdown",
      "metadata": {
        "id": "5d_p8BNjqhWy"
      },
      "source": [
        "#### 집합(set)\n",
        "중복을 허용하지 않음"
      ]
    },
    {
      "cell_type": "code",
      "execution_count": 77,
      "metadata": {
        "id": "dULQJGonqhWy",
        "colab": {
          "base_uri": "https://localhost:8080/"
        },
        "outputId": "95e14c46-9e2c-43ab-e1a1-73ee9ff9240c"
      },
      "outputs": [
        {
          "output_type": "execute_result",
          "data": {
            "text/plain": [
              "{1, 2, 3, 4, 5}"
            ]
          },
          "metadata": {},
          "execution_count": 77
        }
      ],
      "source": [
        "s = {1, 2, 3, 3, 4, 4, 5}\n",
        "s"
      ]
    },
    {
      "cell_type": "code",
      "execution_count": 78,
      "metadata": {
        "id": "P43yeHyuqhWy",
        "colab": {
          "base_uri": "https://localhost:8080/"
        },
        "outputId": "23064b8b-da2e-4528-bd60-89aed5184690"
      },
      "outputs": [
        {
          "output_type": "execute_result",
          "data": {
            "text/plain": [
              "[1, 2, 3, 3, 4, 4, 5]"
            ]
          },
          "metadata": {},
          "execution_count": 78
        }
      ],
      "source": [
        "temp = [1, 2, 3, 3, 4, 4, 5]\n",
        "temp"
      ]
    },
    {
      "cell_type": "code",
      "execution_count": 79,
      "metadata": {
        "id": "X3b9_liGqhWy",
        "colab": {
          "base_uri": "https://localhost:8080/"
        },
        "outputId": "554c5f2b-ed13-42ef-98e6-41c039976b82"
      },
      "outputs": [
        {
          "output_type": "execute_result",
          "data": {
            "text/plain": [
              "[1, 2, 3, 4, 5]"
            ]
          },
          "metadata": {},
          "execution_count": 79
        }
      ],
      "source": [
        "what = list(set(temp))\n",
        "what"
      ]
    },
    {
      "cell_type": "markdown",
      "metadata": {
        "id": "itM32odlqhWy"
      },
      "source": [
        "<br>\n",
        "#### 4. 조건문과 반복문\n",
        "if, for, while"
      ]
    },
    {
      "cell_type": "markdown",
      "metadata": {
        "id": "kQCEiYJvqhWy"
      },
      "source": [
        "#### if"
      ]
    },
    {
      "cell_type": "code",
      "execution_count": 80,
      "metadata": {
        "id": "T_7OJJo6qhWy"
      },
      "outputs": [],
      "source": [
        "def check_price(lunch_price):\n",
        "    \n",
        "    price_label = ''\n",
        "    \n",
        "    if lunch_price > 10000:\n",
        "        price_label = \"프리미엄 도시락\"\n",
        "    elif lunch_price < 3000: \n",
        "        price_label = \"저렴이 도시락\"\n",
        "    else: # 나머지 조건 모두 받기\n",
        "        price_label = \"무난무난 도시락\"\n",
        "        \n",
        "    return price_label"
      ]
    },
    {
      "cell_type": "code",
      "execution_count": 81,
      "metadata": {
        "id": "4VJD0wK5qhWz",
        "colab": {
          "base_uri": "https://localhost:8080/",
          "height": 35
        },
        "outputId": "60819541-6d67-4724-f41a-a80de7f16323"
      },
      "outputs": [
        {
          "output_type": "execute_result",
          "data": {
            "text/plain": [
              "'무난무난 도시락'"
            ],
            "application/vnd.google.colaboratory.intrinsic+json": {
              "type": "string"
            }
          },
          "metadata": {},
          "execution_count": 81
        }
      ],
      "source": [
        "check_price(7000)"
      ]
    },
    {
      "cell_type": "code",
      "execution_count": 82,
      "metadata": {
        "collapsed": true,
        "id": "Ph-11RxXqhWz"
      },
      "outputs": [],
      "source": [
        "cage = ['Cat', 'Dog', 'Tiger']"
      ]
    },
    {
      "cell_type": "code",
      "execution_count": 83,
      "metadata": {
        "id": "flUtJ7PIqhWz",
        "colab": {
          "base_uri": "https://localhost:8080/"
        },
        "outputId": "d6c6cb84-db07-4235-e6b5-a8ae51a776f5"
      },
      "outputs": [
        {
          "output_type": "stream",
          "name": "stdout",
          "text": [
            "야옹아 이리온\n"
          ]
        }
      ],
      "source": [
        "if 'Cat' in cage:\n",
        "    print('야옹아 이리온')"
      ]
    },
    {
      "cell_type": "code",
      "execution_count": 84,
      "metadata": {
        "collapsed": true,
        "id": "Ky5WCCJZqhWz"
      },
      "outputs": [],
      "source": [
        "cage = {'Cat': '야옹', 'Dog': '멍멍', 'Tiger': '어흥'}"
      ]
    },
    {
      "cell_type": "code",
      "execution_count": 85,
      "metadata": {
        "id": "nEsKRA1mqhWz",
        "colab": {
          "base_uri": "https://localhost:8080/"
        },
        "outputId": "2aa676a8-29f1-4740-a179-77b299ec7af0"
      },
      "outputs": [
        {
          "output_type": "stream",
          "name": "stdout",
          "text": [
            "치와와는 언제와\n"
          ]
        }
      ],
      "source": [
        "if 'Dog' in cage.keys():\n",
        "    print('치와와는 언제와')"
      ]
    },
    {
      "cell_type": "code",
      "execution_count": 86,
      "metadata": {
        "collapsed": true,
        "id": "QuLZt0WCqhWz"
      },
      "outputs": [],
      "source": [
        "number = 100"
      ]
    },
    {
      "cell_type": "code",
      "execution_count": 87,
      "metadata": {
        "id": "nDbdtInUqhWz",
        "colab": {
          "base_uri": "https://localhost:8080/"
        },
        "outputId": "5c883f1d-e531-4005-b38f-cf55b1a814a4"
      },
      "outputs": [
        {
          "output_type": "stream",
          "name": "stdout",
          "text": [
            "100점을 못 받았어 ㅠㅠ\n"
          ]
        }
      ],
      "source": [
        "if 99 != number:\n",
        "  print(\"100점을 못 받았어 ㅠㅠ\")"
      ]
    },
    {
      "cell_type": "markdown",
      "metadata": {
        "id": "jqkbzgYAqhW0"
      },
      "source": [
        "#### for"
      ]
    },
    {
      "cell_type": "code",
      "execution_count": 88,
      "metadata": {
        "collapsed": true,
        "id": "2HN0RMeDqhW0"
      },
      "outputs": [],
      "source": [
        "nums = [1, 2, 3, 4, 5]"
      ]
    },
    {
      "cell_type": "code",
      "execution_count": 89,
      "metadata": {
        "id": "FeQ4_U7uqhW0",
        "colab": {
          "base_uri": "https://localhost:8080/"
        },
        "outputId": "f2248688-8659-4c70-88d6-0d6716d47f62"
      },
      "outputs": [
        {
          "output_type": "stream",
          "name": "stdout",
          "text": [
            "1\n",
            "2\n",
            "3\n",
            "4\n",
            "5\n"
          ]
        }
      ],
      "source": [
        "for number in nums:\n",
        "    print(number)"
      ]
    },
    {
      "cell_type": "code",
      "execution_count": 90,
      "metadata": {
        "id": "-RHW3JL3qhW0",
        "colab": {
          "base_uri": "https://localhost:8080/"
        },
        "outputId": "03bb64dd-1b7d-40b8-975d-6f332336cbb6"
      },
      "outputs": [
        {
          "output_type": "execute_result",
          "data": {
            "text/plain": [
              "range(0, 5)"
            ]
          },
          "metadata": {},
          "execution_count": 90
        }
      ],
      "source": [
        "range(5)"
      ]
    },
    {
      "cell_type": "code",
      "execution_count": 91,
      "metadata": {
        "id": "H4Gd7hXxqhW0",
        "colab": {
          "base_uri": "https://localhost:8080/"
        },
        "outputId": "adcf846d-dc92-428a-9147-617ce7fa6a37"
      },
      "outputs": [
        {
          "output_type": "stream",
          "name": "stdout",
          "text": [
            "0\n",
            "1\n",
            "2\n",
            "3\n",
            "4\n"
          ]
        }
      ],
      "source": [
        "for index in range(5):\n",
        "    print(index)"
      ]
    },
    {
      "cell_type": "code",
      "execution_count": 92,
      "metadata": {
        "collapsed": true,
        "id": "g63EgqC7qhW0"
      },
      "outputs": [],
      "source": [
        "cage = {'Cat': '야옹', 'Dog': '멍멍', 'Tiger': '어흥'}"
      ]
    },
    {
      "cell_type": "code",
      "execution_count": 93,
      "metadata": {
        "id": "TUp_neEaqhW1",
        "colab": {
          "base_uri": "https://localhost:8080/"
        },
        "outputId": "48ec6551-5510-4028-98af-d9cf90f35842"
      },
      "outputs": [
        {
          "output_type": "stream",
          "name": "stdout",
          "text": [
            "('Cat', '야옹')\n",
            "('Dog', '멍멍')\n",
            "('Tiger', '어흥')\n"
          ]
        }
      ],
      "source": [
        "for item in cage.items():\n",
        "    print(item)"
      ]
    },
    {
      "cell_type": "code",
      "execution_count": 94,
      "metadata": {
        "id": "UcRaRRcGqhW1"
      },
      "outputs": [],
      "source": [
        "students = ['철수', '영희', '동수'] \n",
        "\n",
        "empty_list = []\n",
        "for student in students:\n",
        "    empty_list.append(student)"
      ]
    },
    {
      "cell_type": "code",
      "execution_count": 95,
      "metadata": {
        "id": "QkhbJ_yfqhW1",
        "colab": {
          "base_uri": "https://localhost:8080/"
        },
        "outputId": "5b347b8c-b5e1-4eb5-8ecb-3cc2da8f3c4e"
      },
      "outputs": [
        {
          "output_type": "execute_result",
          "data": {
            "text/plain": [
              "['철수', '영희', '동수']"
            ]
          },
          "metadata": {},
          "execution_count": 95
        }
      ],
      "source": [
        "empty_list"
      ]
    },
    {
      "cell_type": "markdown",
      "metadata": {
        "id": "LESLV1eaqhW1"
      },
      "source": [
        "#### while"
      ]
    },
    {
      "cell_type": "code",
      "execution_count": 96,
      "metadata": {
        "id": "-brPPQOLqhW1",
        "colab": {
          "base_uri": "https://localhost:8080/"
        },
        "outputId": "9570443f-9524-44ab-fa3d-f9d532f018d3"
      },
      "outputs": [
        {
          "output_type": "stream",
          "name": "stdout",
          "text": [
            "1\n",
            "2\n",
            "3\n",
            "4\n",
            "5\n",
            "6\n",
            "7\n",
            "8\n",
            "9\n",
            "10\n"
          ]
        }
      ],
      "source": [
        "temp = 1\n",
        "while temp <= 10:\n",
        "    print(temp)\n",
        "    temp += 1"
      ]
    },
    {
      "cell_type": "code",
      "execution_count": 97,
      "metadata": {
        "id": "k0W3qEIuqhW1"
      },
      "outputs": [],
      "source": [
        "# 무한 루프, Pass, Interrupting kernel\n",
        "\n",
        "#while True:\n",
        "#    pass"
      ]
    },
    {
      "cell_type": "code",
      "execution_count": 98,
      "metadata": {
        "collapsed": true,
        "id": "a8kMTbt3qhW2"
      },
      "outputs": [],
      "source": [
        "# Quiz 4. 점수(0~100)를 입력으로 받아 학점을 출력해주는 함수 grade를 만드세요."
      ]
    },
    {
      "cell_type": "code",
      "execution_count": 99,
      "metadata": {
        "collapsed": true,
        "id": "ZFoothNsqhW2"
      },
      "outputs": [],
      "source": [
        "def grade(score):\n",
        "    if score > 90:\n",
        "        print('A')\n",
        "    elif score > 80:\n",
        "        print('B')\n",
        "    elif score > 70:\n",
        "        print('C')\n",
        "    else:\n",
        "        print(\"F\")"
      ]
    },
    {
      "cell_type": "code",
      "execution_count": 100,
      "metadata": {
        "id": "sWeKl1UIqhW2",
        "colab": {
          "base_uri": "https://localhost:8080/"
        },
        "outputId": "6337bde5-7d66-4358-b8ca-1800eaf183a1"
      },
      "outputs": [
        {
          "output_type": "stream",
          "name": "stdout",
          "text": [
            "B\n"
          ]
        }
      ],
      "source": [
        "grade(87)"
      ]
    },
    {
      "cell_type": "code",
      "execution_count": 101,
      "metadata": {
        "collapsed": true,
        "id": "-V2O8LgRqhW2"
      },
      "outputs": [],
      "source": [
        "# Quiz 5. 3개의 숫자를 입력으로 받아, 가장 큰 수를 출력하는 함수 best 를 만드세요. (Hint. 리스트와 sort()를 활용해보세요.)"
      ]
    },
    {
      "cell_type": "code",
      "execution_count": 102,
      "metadata": {
        "collapsed": true,
        "id": "hgErzVjhqhW3"
      },
      "outputs": [],
      "source": [
        "def best(a, b, c):\n",
        "    temp = [a, b, c]\n",
        "    temp.sort(reverse=True)\n",
        "    print(temp[0])"
      ]
    },
    {
      "cell_type": "code",
      "execution_count": 103,
      "metadata": {
        "id": "RDl0O4hpqhW3",
        "colab": {
          "base_uri": "https://localhost:8080/"
        },
        "outputId": "1d148ffa-23d0-4c22-8c57-175a08918d37"
      },
      "outputs": [
        {
          "output_type": "stream",
          "name": "stdout",
          "text": [
            "100\n"
          ]
        }
      ],
      "source": [
        "best(20, 80, 100)"
      ]
    },
    {
      "cell_type": "code",
      "execution_count": 104,
      "metadata": {
        "collapsed": true,
        "id": "DQ6xaUn_qhW3"
      },
      "outputs": [],
      "source": [
        "# Quiz 6. 숫자 하나를 입력받아, 홀수면 \"odd\", 짝수면 \"even\"을 출력하는 함수 odd_or_even을 만드세요. (나머지 연산 명령어는?)"
      ]
    },
    {
      "cell_type": "code",
      "execution_count": 105,
      "metadata": {
        "collapsed": true,
        "id": "96vniAeNqhW3"
      },
      "outputs": [],
      "source": [
        "def odd_or_even(x):\n",
        "    if x % 2 == 0:\n",
        "        print(\"even\")\n",
        "    elif x % 2 == 1:\n",
        "        print(\"odd\")"
      ]
    },
    {
      "cell_type": "code",
      "execution_count": 106,
      "metadata": {
        "id": "az00eqM0qhW3",
        "colab": {
          "base_uri": "https://localhost:8080/"
        },
        "outputId": "9891b650-45f6-432c-b104-a9827ca4f7aa"
      },
      "outputs": [
        {
          "output_type": "stream",
          "name": "stdout",
          "text": [
            "odd\n"
          ]
        }
      ],
      "source": [
        "odd_or_even(9)"
      ]
    },
    {
      "cell_type": "code",
      "execution_count": 107,
      "metadata": {
        "collapsed": true,
        "id": "pp4vcSBMqhW3"
      },
      "outputs": [],
      "source": [
        "# Quiz 7. \"20180323sunny\" 와 같은 문자열을 입력받아, \"Year is 2018, Day is 0323, Weather is sunny\" 를 출력하는 함수 weather를 만드세요."
      ]
    },
    {
      "cell_type": "code",
      "execution_count": 108,
      "metadata": {
        "collapsed": true,
        "id": "-VnOF-0rqhW4"
      },
      "outputs": [],
      "source": [
        "def weather(string):\n",
        "    print(\"Year is {}, Day is {}, Weather is {}\".format(string[0:4], string[4:8], string[8:]))"
      ]
    },
    {
      "cell_type": "code",
      "execution_count": 109,
      "metadata": {
        "id": "RXCpZtY2qhW4",
        "colab": {
          "base_uri": "https://localhost:8080/"
        },
        "outputId": "1c16811b-0236-47dc-e0eb-c61a1133cc76"
      },
      "outputs": [
        {
          "output_type": "stream",
          "name": "stdout",
          "text": [
            "Year is 2018, Day is 0323, Weather is still cold\n"
          ]
        }
      ],
      "source": [
        "weather('20180323still cold')"
      ]
    },
    {
      "cell_type": "markdown",
      "metadata": {
        "id": "QcqQkOSCqhW4"
      },
      "source": [
        "<br>\n",
        "\n",
        "#### 5. 파일 읽고 쓰기"
      ]
    },
    {
      "cell_type": "markdown",
      "metadata": {
        "id": "hrbZlBIkqhW4"
      },
      "source": [
        "#### 파일 쓰기"
      ]
    },
    {
      "cell_type": "code",
      "execution_count": 110,
      "metadata": {
        "collapsed": true,
        "id": "v1KGNybuqhW4"
      },
      "outputs": [],
      "source": [
        "file = open('cage.txt', 'w', encoding='utf-8')"
      ]
    },
    {
      "cell_type": "code",
      "execution_count": 111,
      "metadata": {
        "collapsed": true,
        "id": "JKpBYQ1aqhW4"
      },
      "outputs": [],
      "source": [
        "cage = ['Cat', 'Dog', 'Tiger']"
      ]
    },
    {
      "cell_type": "code",
      "execution_count": 112,
      "metadata": {
        "id": "ic9wZ4xvqhW4",
        "colab": {
          "base_uri": "https://localhost:8080/"
        },
        "outputId": "e30ff962-3b0b-4ad1-9e72-025b89601908"
      },
      "outputs": [
        {
          "output_type": "execute_result",
          "data": {
            "text/plain": [
              "23"
            ]
          },
          "metadata": {},
          "execution_count": 112
        }
      ],
      "source": [
        "file.write(str(cage)) # 에러가 발생했어요. 어떻게 해야할까요?"
      ]
    },
    {
      "cell_type": "code",
      "execution_count": 113,
      "metadata": {
        "collapsed": true,
        "id": "uOgRyL62qhW5"
      },
      "outputs": [],
      "source": [
        "for animal in cage:\n",
        "    file.write(animal)"
      ]
    },
    {
      "cell_type": "code",
      "execution_count": 114,
      "metadata": {
        "collapsed": true,
        "id": "1BpzGoirqhW5"
      },
      "outputs": [],
      "source": [
        "file.close()"
      ]
    },
    {
      "cell_type": "code",
      "execution_count": 115,
      "metadata": {
        "collapsed": true,
        "id": "bDZs-Tb4qhW5"
      },
      "outputs": [],
      "source": [
        "file = open('cage.txt', 'w', encoding='utf-8')"
      ]
    },
    {
      "cell_type": "code",
      "execution_count": 116,
      "metadata": {
        "collapsed": true,
        "id": "5P99BZVfqhW5"
      },
      "outputs": [],
      "source": [
        "for animal in cage:\n",
        "    file.write(animal + '\\n')"
      ]
    },
    {
      "cell_type": "code",
      "execution_count": 117,
      "metadata": {
        "collapsed": true,
        "id": "kMRikDZRqhW5"
      },
      "outputs": [],
      "source": [
        "file.close()"
      ]
    },
    {
      "cell_type": "code",
      "execution_count": 118,
      "metadata": {
        "collapsed": true,
        "id": "bsEBEIPXqhW5"
      },
      "outputs": [],
      "source": [
        "# with 과 함께 쓰기\n",
        "\n",
        "with open('cage.txt', 'w', encoding='utf-8') as file:\n",
        "    for animal in cage:\n",
        "        file.write(animal + '\\n')"
      ]
    },
    {
      "cell_type": "markdown",
      "metadata": {
        "id": "1x1HTA5MqhW5"
      },
      "source": [
        "#### 파일 읽기"
      ]
    },
    {
      "cell_type": "code",
      "execution_count": 119,
      "metadata": {
        "collapsed": true,
        "id": "It3SBbLOqhW6"
      },
      "outputs": [],
      "source": [
        "file = open('cage.txt', 'r', encoding='utf-8')"
      ]
    },
    {
      "cell_type": "code",
      "execution_count": 120,
      "metadata": {
        "id": "erT1VvccqhW6",
        "colab": {
          "base_uri": "https://localhost:8080/"
        },
        "outputId": "eba7e878-43e5-4e6c-bf72-d5ed36d2955f"
      },
      "outputs": [
        {
          "output_type": "execute_result",
          "data": {
            "text/plain": [
              "['Cat\\n', 'Dog\\n', 'Tiger\\n']"
            ]
          },
          "metadata": {},
          "execution_count": 120
        }
      ],
      "source": [
        "cage = file.readlines()\n",
        "cage"
      ]
    },
    {
      "cell_type": "code",
      "execution_count": 121,
      "metadata": {
        "id": "iN6uCAwxqhW6",
        "colab": {
          "base_uri": "https://localhost:8080/"
        },
        "outputId": "3b3d62ff-3df2-478a-fe23-15bf6eccfac0"
      },
      "outputs": [
        {
          "output_type": "stream",
          "name": "stdout",
          "text": [
            "Cat\n",
            "\n"
          ]
        }
      ],
      "source": [
        "print(cage[0])"
      ]
    },
    {
      "cell_type": "markdown",
      "metadata": {
        "id": "TSrIgEuYqhW6"
      },
      "source": [
        "<br>\n",
        "\n",
        "#### 6. Python 기본 내장함수와 외장함수"
      ]
    },
    {
      "cell_type": "code",
      "execution_count": 122,
      "metadata": {
        "id": "xJ3qfQZ3qhW6",
        "colab": {
          "base_uri": "https://localhost:8080/"
        },
        "outputId": "a8965007-19bc-424e-b743-a56f968b9286"
      },
      "outputs": [
        {
          "output_type": "execute_result",
          "data": {
            "text/plain": [
              "6"
            ]
          },
          "metadata": {},
          "execution_count": 122
        }
      ],
      "source": [
        "len('Python')"
      ]
    },
    {
      "cell_type": "code",
      "execution_count": 123,
      "metadata": {
        "id": "bz7t_g7XqhW7",
        "colab": {
          "base_uri": "https://localhost:8080/"
        },
        "outputId": "61258307-e176-4497-e714-234cc675e5dc"
      },
      "outputs": [
        {
          "output_type": "execute_result",
          "data": {
            "text/plain": [
              "['P', 'y', 't', 'h', 'o', 'n']"
            ]
          },
          "metadata": {},
          "execution_count": 123
        }
      ],
      "source": [
        "list('Python')"
      ]
    },
    {
      "cell_type": "code",
      "execution_count": 124,
      "metadata": {
        "id": "aDCBN0WjqhW7",
        "colab": {
          "base_uri": "https://localhost:8080/"
        },
        "outputId": "763f781b-4e49-4a45-d152-435282c3dc1b"
      },
      "outputs": [
        {
          "output_type": "execute_result",
          "data": {
            "text/plain": [
              "1.2"
            ]
          },
          "metadata": {},
          "execution_count": 124
        }
      ],
      "source": [
        "abs(-1.2)"
      ]
    },
    {
      "cell_type": "code",
      "execution_count": 125,
      "metadata": {
        "id": "BdSWXEmKqhW7",
        "colab": {
          "base_uri": "https://localhost:8080/"
        },
        "outputId": "7edcecc3-146d-4d77-c5ef-8362f63bdb02"
      },
      "outputs": [
        {
          "output_type": "execute_result",
          "data": {
            "text/plain": [
              "2"
            ]
          },
          "metadata": {},
          "execution_count": 125
        }
      ],
      "source": [
        "round(1.7)"
      ]
    },
    {
      "cell_type": "code",
      "execution_count": 126,
      "metadata": {
        "id": "XJdpCu6hqhW7",
        "colab": {
          "base_uri": "https://localhost:8080/"
        },
        "outputId": "488698c4-47f3-46fd-9478-1175f79a1a2b"
      },
      "outputs": [
        {
          "output_type": "execute_result",
          "data": {
            "text/plain": [
              "True"
            ]
          },
          "metadata": {},
          "execution_count": 126
        }
      ],
      "source": [
        "bool(1)"
      ]
    },
    {
      "cell_type": "code",
      "execution_count": 127,
      "metadata": {
        "id": "Jx6inCO-qhW7",
        "colab": {
          "base_uri": "https://localhost:8080/"
        },
        "outputId": "2603fe66-f91b-4790-d1c5-73a9013e571d"
      },
      "outputs": [
        {
          "output_type": "execute_result",
          "data": {
            "text/plain": [
              "6"
            ]
          },
          "metadata": {},
          "execution_count": 127
        }
      ],
      "source": [
        "sum([1, 2, 3])"
      ]
    },
    {
      "cell_type": "code",
      "execution_count": 128,
      "metadata": {
        "id": "SFe-zwjeqhW7",
        "colab": {
          "base_uri": "https://localhost:8080/"
        },
        "outputId": "914c1718-ca3a-475b-c9c5-a1da3f14c565"
      },
      "outputs": [
        {
          "output_type": "execute_result",
          "data": {
            "text/plain": [
              "3"
            ]
          },
          "metadata": {},
          "execution_count": 128
        }
      ],
      "source": [
        "max([1, 2, 3])"
      ]
    },
    {
      "cell_type": "code",
      "execution_count": 129,
      "metadata": {
        "id": "8ERcwHQCqhW8",
        "colab": {
          "base_uri": "https://localhost:8080/"
        },
        "outputId": "d9b1219c-9e13-419c-d4e1-e1a3f3d2e82e"
      },
      "outputs": [
        {
          "output_type": "execute_result",
          "data": {
            "text/plain": [
              "1"
            ]
          },
          "metadata": {},
          "execution_count": 129
        }
      ],
      "source": [
        "min([1, 2, 3])"
      ]
    },
    {
      "cell_type": "code",
      "execution_count": 130,
      "metadata": {
        "id": "t3yOzs3QqhW8",
        "colab": {
          "base_uri": "https://localhost:8080/"
        },
        "outputId": "30afdba7-b334-42b7-fcbf-179025e08ee2"
      },
      "outputs": [
        {
          "output_type": "stream",
          "name": "stdout",
          "text": [
            "0\n",
            "10\n",
            "20\n",
            "30\n",
            "40\n",
            "50\n",
            "60\n",
            "70\n",
            "80\n",
            "90\n"
          ]
        }
      ],
      "source": [
        "for num in range(0, 100, 10):\n",
        "    print(num)"
      ]
    },
    {
      "cell_type": "code",
      "execution_count": 131,
      "metadata": {
        "collapsed": true,
        "id": "fbFbh4xoqhW8"
      },
      "outputs": [],
      "source": [
        "def func(x):\n",
        "    return x**2"
      ]
    },
    {
      "cell_type": "code",
      "execution_count": 132,
      "metadata": {
        "id": "sKkw8slKqhW8",
        "colab": {
          "base_uri": "https://localhost:8080/"
        },
        "outputId": "0ac16692-9b4c-433a-c1d4-39cf1f3ad2d4"
      },
      "outputs": [
        {
          "output_type": "execute_result",
          "data": {
            "text/plain": [
              "25"
            ]
          },
          "metadata": {},
          "execution_count": 132
        }
      ],
      "source": [
        "func(5)"
      ]
    },
    {
      "cell_type": "code",
      "execution_count": 133,
      "metadata": {
        "collapsed": true,
        "id": "qbYqYYX8qhW8"
      },
      "outputs": [],
      "source": [
        "func = lambda x: x**2"
      ]
    },
    {
      "cell_type": "code",
      "execution_count": 134,
      "metadata": {
        "id": "GAGkrxTQqhW8",
        "colab": {
          "base_uri": "https://localhost:8080/"
        },
        "outputId": "93c61bf6-d2f4-48e5-9d12-b9ef52cca7ae"
      },
      "outputs": [
        {
          "output_type": "execute_result",
          "data": {
            "text/plain": [
              "25"
            ]
          },
          "metadata": {},
          "execution_count": 134
        }
      ],
      "source": [
        "func(5)"
      ]
    },
    {
      "cell_type": "markdown",
      "metadata": {
        "id": "a7aY9O9cqhW9"
      },
      "source": [
        "<br>\n",
        "\n",
        "#### 7. 라이브러리 활용하기 (Library == Package, Module(단일 .py)의 상위 개념 )"
      ]
    },
    {
      "cell_type": "code",
      "execution_count": 135,
      "metadata": {
        "collapsed": true,
        "id": "YDKF-0OJqhW9"
      },
      "outputs": [],
      "source": [
        "import numpy # import 라이브러리이름"
      ]
    },
    {
      "cell_type": "code",
      "execution_count": 136,
      "metadata": {
        "id": "9H8BhQlDqhW9",
        "colab": {
          "base_uri": "https://localhost:8080/"
        },
        "outputId": "1d772da1-6dca-4cbe-f142-4778250298a4"
      },
      "outputs": [
        {
          "output_type": "execute_result",
          "data": {
            "text/plain": [
              "array([1, 2, 3])"
            ]
          },
          "metadata": {},
          "execution_count": 136
        }
      ],
      "source": [
        "a = numpy.array([1, 2, 3])\n",
        "a"
      ]
    },
    {
      "cell_type": "code",
      "execution_count": 137,
      "metadata": {
        "collapsed": true,
        "id": "aQNIykVJqhW9"
      },
      "outputs": [],
      "source": [
        "import numpy as np # import 라이브러리이름 as 별명"
      ]
    },
    {
      "cell_type": "code",
      "execution_count": 138,
      "metadata": {
        "id": "mL0SnVYVqhW9",
        "colab": {
          "base_uri": "https://localhost:8080/"
        },
        "outputId": "e27ac0c0-b79f-4e34-8f1b-612b96077ee3"
      },
      "outputs": [
        {
          "output_type": "execute_result",
          "data": {
            "text/plain": [
              "array([1, 2, 3])"
            ]
          },
          "metadata": {},
          "execution_count": 138
        }
      ],
      "source": [
        "a = np.array([1, 2, 3])\n",
        "a"
      ]
    },
    {
      "cell_type": "code",
      "execution_count": 139,
      "metadata": {
        "collapsed": true,
        "id": "uYVdD_odqhW9"
      },
      "outputs": [],
      "source": [
        "from numpy import array, ndarray # from 라이브러리이름 import 함수이름"
      ]
    },
    {
      "cell_type": "code",
      "execution_count": 140,
      "metadata": {
        "id": "LNq9jQ1fqhW9",
        "colab": {
          "base_uri": "https://localhost:8080/"
        },
        "outputId": "9efa4ba8-743a-4923-d671-8bf8215206f3"
      },
      "outputs": [
        {
          "output_type": "execute_result",
          "data": {
            "text/plain": [
              "array([1, 2, 3])"
            ]
          },
          "metadata": {},
          "execution_count": 140
        }
      ],
      "source": [
        "a = array([1, 2, 3])\n",
        "a"
      ]
    },
    {
      "cell_type": "code",
      "execution_count": 141,
      "metadata": {
        "id": "M2y9ZIb2qhW-",
        "colab": {
          "base_uri": "https://localhost:8080/"
        },
        "outputId": "6b5c3ed4-6f16-4a94-e8c8-da18eb23bfac"
      },
      "outputs": [
        {
          "output_type": "execute_result",
          "data": {
            "text/plain": [
              "0.3835672593291072"
            ]
          },
          "metadata": {},
          "execution_count": 141
        }
      ],
      "source": [
        "import random # 외장함수\n",
        "\n",
        "x = random.random()\n",
        "x"
      ]
    },
    {
      "cell_type": "code",
      "execution_count": 142,
      "metadata": {
        "id": "iuzSTb_8qhW-",
        "colab": {
          "base_uri": "https://localhost:8080/"
        },
        "outputId": "e56aac29-ea93-4213-d066-12fafe8ad85c"
      },
      "outputs": [
        {
          "output_type": "execute_result",
          "data": {
            "text/plain": [
              "7"
            ]
          },
          "metadata": {},
          "execution_count": 142
        }
      ],
      "source": [
        "x = random.randint(1, 100)\n",
        "x"
      ]
    },
    {
      "cell_type": "code",
      "execution_count": 143,
      "metadata": {
        "collapsed": true,
        "id": "aZfB6hYxqhW-",
        "colab": {
          "base_uri": "https://localhost:8080/",
          "height": 35
        },
        "outputId": "ea94049a-dfdc-4876-ae1c-ef0cca114c38"
      },
      "outputs": [
        {
          "output_type": "execute_result",
          "data": {
            "text/plain": [
              "'/content'"
            ],
            "application/vnd.google.colaboratory.intrinsic+json": {
              "type": "string"
            }
          },
          "metadata": {},
          "execution_count": 143
        }
      ],
      "source": [
        "import os # 외장함수\n",
        "\n",
        "os.getcwd()"
      ]
    },
    {
      "cell_type": "code",
      "execution_count": 143,
      "metadata": {
        "collapsed": true,
        "id": "9w_gg0LVqhW_"
      },
      "outputs": [],
      "source": []
    }
  ],
  "metadata": {
    "colab": {
      "provenance": [],
      "include_colab_link": true
    },
    "kernelspec": {
      "display_name": "Python 3",
      "language": "python",
      "name": "python3"
    },
    "language_info": {
      "codemirror_mode": {
        "name": "ipython",
        "version": 3
      },
      "file_extension": ".py",
      "mimetype": "text/x-python",
      "name": "python",
      "nbconvert_exporter": "python",
      "pygments_lexer": "ipython3",
      "version": "3.8.8"
    }
  },
  "nbformat": 4,
  "nbformat_minor": 0
}