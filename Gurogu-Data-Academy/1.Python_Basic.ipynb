{
  "cells": [
    {
      "cell_type": "markdown",
      "metadata": {
        "id": "view-in-github",
        "colab_type": "text"
      },
      "source": [
        "<a href=\"https://colab.research.google.com/github/pu-bi/Python-study/blob/main/Gurogu-Data-Academy/1.Python_Basic.ipynb\" target=\"_parent\"><img src=\"https://colab.research.google.com/assets/colab-badge.svg\" alt=\"Open In Colab\"/></a>"
      ]
    },
    {
      "cell_type": "markdown",
      "metadata": {
        "id": "hrTKFA15qhWa"
      },
      "source": [
        "<br>\n",
        "\n",
        "#### 0. 특정 함수에 대해 궁금할 때"
      ]
    },
    {
      "cell_type": "code",
      "execution_count": 1,
      "metadata": {
        "collapsed": true,
        "id": "OfyY3CurqhWd"
      },
      "outputs": [],
      "source": [
        "# 이것은 주석입니다."
      ]
    },
    {
      "cell_type": "code",
      "execution_count": 2,
      "metadata": {
        "colab": {
          "base_uri": "https://localhost:8080/"
        },
        "id": "3BLgfFN3qhWf",
        "outputId": "81d15442-581f-4c40-a23f-86ba1a7e5742"
      },
      "outputs": [
        {
          "output_type": "stream",
          "name": "stdout",
          "text": [
            "\n"
          ]
        }
      ],
      "source": [
        "print() # Shift+Tap"
      ]
    },
    {
      "cell_type": "markdown",
      "metadata": {
        "id": "u_DBIwAKqhWf"
      },
      "source": [
        "<br>\n",
        "\n",
        "#### 1. 기초 데이터 타입"
      ]
    },
    {
      "cell_type": "markdown",
      "metadata": {
        "id": "c-u613tCqhWg"
      },
      "source": [
        "#### 정수형(integer)과 실수형(floats)"
      ]
    },
    {
      "cell_type": "code",
      "execution_count": 3,
      "metadata": {
        "collapsed": true,
        "id": "cRh5XUHpqhWg"
      },
      "outputs": [],
      "source": [
        "x = 3"
      ]
    },
    {
      "cell_type": "code",
      "execution_count": 4,
      "metadata": {
        "colab": {
          "base_uri": "https://localhost:8080/"
        },
        "id": "XA9tv0AzqhWh",
        "outputId": "438ce978-afa9-490c-cba8-94c05d30c4f6"
      },
      "outputs": [
        {
          "output_type": "execute_result",
          "data": {
            "text/plain": [
              "3"
            ]
          },
          "metadata": {},
          "execution_count": 4
        }
      ],
      "source": [
        "x"
      ]
    },
    {
      "cell_type": "code",
      "execution_count": 5,
      "metadata": {
        "colab": {
          "base_uri": "https://localhost:8080/"
        },
        "id": "_byhz5DfqhWh",
        "outputId": "9a85632d-86ea-453f-d163-566d6d91fb4b"
      },
      "outputs": [
        {
          "output_type": "execute_result",
          "data": {
            "text/plain": [
              "int"
            ]
          },
          "metadata": {},
          "execution_count": 5
        }
      ],
      "source": [
        "type(x)"
      ]
    },
    {
      "cell_type": "code",
      "execution_count": 6,
      "metadata": {
        "colab": {
          "base_uri": "https://localhost:8080/"
        },
        "id": "l-biIQjFqhWi",
        "outputId": "c0254751-8c1a-4631-e98f-972cb8fa240f"
      },
      "outputs": [
        {
          "output_type": "execute_result",
          "data": {
            "text/plain": [
              "4"
            ]
          },
          "metadata": {},
          "execution_count": 6
        }
      ],
      "source": [
        "x+1"
      ]
    },
    {
      "cell_type": "code",
      "execution_count": 7,
      "metadata": {
        "colab": {
          "base_uri": "https://localhost:8080/"
        },
        "id": "qeR_90w1qhWi",
        "outputId": "246886e5-0b78-46fa-8c82-015f8ecc499c"
      },
      "outputs": [
        {
          "output_type": "execute_result",
          "data": {
            "text/plain": [
              "6"
            ]
          },
          "metadata": {},
          "execution_count": 7
        }
      ],
      "source": [
        "x*2"
      ]
    },
    {
      "cell_type": "code",
      "execution_count": 8,
      "metadata": {
        "colab": {
          "base_uri": "https://localhost:8080/"
        },
        "id": "kBieNINIqhWj",
        "outputId": "7be75aaa-83fa-473d-bf5f-27fee5d8c786"
      },
      "outputs": [
        {
          "output_type": "execute_result",
          "data": {
            "text/plain": [
              "9"
            ]
          },
          "metadata": {},
          "execution_count": 8
        }
      ],
      "source": [
        "x**2"
      ]
    },
    {
      "cell_type": "code",
      "execution_count": 9,
      "metadata": {
        "colab": {
          "base_uri": "https://localhost:8080/"
        },
        "id": "qe-HmpTKqhWj",
        "outputId": "0909df49-f00d-4168-d9a4-bc842a72c277"
      },
      "outputs": [
        {
          "output_type": "execute_result",
          "data": {
            "text/plain": [
              "4"
            ]
          },
          "metadata": {},
          "execution_count": 9
        }
      ],
      "source": [
        "x += 1\n",
        "x"
      ]
    },
    {
      "cell_type": "code",
      "execution_count": 10,
      "metadata": {
        "colab": {
          "base_uri": "https://localhost:8080/"
        },
        "id": "Dmt1LHT7qhWk",
        "outputId": "5c1e90c5-45b6-4c78-954c-de372e1ec360"
      },
      "outputs": [
        {
          "output_type": "execute_result",
          "data": {
            "text/plain": [
              "8"
            ]
          },
          "metadata": {},
          "execution_count": 10
        }
      ],
      "source": [
        "x *= 2\n",
        "x"
      ]
    },
    {
      "cell_type": "code",
      "execution_count": 11,
      "metadata": {
        "collapsed": true,
        "id": "wRTVpdWmqhWk"
      },
      "outputs": [],
      "source": [
        "x = 9"
      ]
    },
    {
      "cell_type": "code",
      "execution_count": 12,
      "metadata": {
        "colab": {
          "base_uri": "https://localhost:8080/"
        },
        "id": "ypR0qWFzqhWk",
        "outputId": "936138fb-2626-4818-d34e-295a58139be1"
      },
      "outputs": [
        {
          "output_type": "execute_result",
          "data": {
            "text/plain": [
              "4.5"
            ]
          },
          "metadata": {},
          "execution_count": 12
        }
      ],
      "source": [
        "x / 2 "
      ]
    },
    {
      "cell_type": "code",
      "execution_count": 13,
      "metadata": {
        "scrolled": false,
        "colab": {
          "base_uri": "https://localhost:8080/"
        },
        "id": "N7J8SpKbqhWk",
        "outputId": "cda84f13-e37e-4077-93b7-3d9cef306bd0"
      },
      "outputs": [
        {
          "output_type": "execute_result",
          "data": {
            "text/plain": [
              "1"
            ]
          },
          "metadata": {},
          "execution_count": 13
        }
      ],
      "source": [
        "x % 2 # 나머지"
      ]
    },
    {
      "cell_type": "code",
      "execution_count": 14,
      "metadata": {
        "id": "dkwHA703qhWl"
      },
      "outputs": [],
      "source": [
        "y = 2.5"
      ]
    },
    {
      "cell_type": "code",
      "execution_count": 15,
      "metadata": {
        "colab": {
          "base_uri": "https://localhost:8080/"
        },
        "id": "TkIJvkJKqhWl",
        "outputId": "c13a657a-7a64-487e-b05f-e18c47a210d1"
      },
      "outputs": [
        {
          "output_type": "execute_result",
          "data": {
            "text/plain": [
              "float"
            ]
          },
          "metadata": {},
          "execution_count": 15
        }
      ],
      "source": [
        "type(2.5)"
      ]
    },
    {
      "cell_type": "code",
      "execution_count": 16,
      "metadata": {
        "colab": {
          "base_uri": "https://localhost:8080/"
        },
        "id": "hVKvlZomqhWl",
        "outputId": "d9140eb3-2f13-4978-9f35-f391c0247400"
      },
      "outputs": [
        {
          "output_type": "execute_result",
          "data": {
            "text/plain": [
              "2"
            ]
          },
          "metadata": {},
          "execution_count": 16
        }
      ],
      "source": [
        "# y를 정수 자료형으로 바꾸려면?\n",
        "int(y) # from float to integer"
      ]
    },
    {
      "cell_type": "code",
      "execution_count": 17,
      "metadata": {
        "colab": {
          "base_uri": "https://localhost:8080/"
        },
        "id": "V4-8YhzwqhWm",
        "outputId": "045d59de-1bce-423d-f395-7423cfcc19af"
      },
      "outputs": [
        {
          "output_type": "execute_result",
          "data": {
            "text/plain": [
              "9.0"
            ]
          },
          "metadata": {},
          "execution_count": 17
        }
      ],
      "source": [
        "x = 9 \n",
        "float(x)"
      ]
    },
    {
      "cell_type": "code",
      "execution_count": 18,
      "metadata": {
        "colab": {
          "base_uri": "https://localhost:8080/"
        },
        "id": "OzXPRgQ3qhWm",
        "outputId": "3f4b33c4-987b-4984-e41c-9bec9e781ab1"
      },
      "outputs": [
        {
          "output_type": "stream",
          "name": "stdout",
          "text": [
            "2.5 3.5 5.0 6.25\n"
          ]
        }
      ],
      "source": [
        "print(y, y+1, y*2, y**2)"
      ]
    },
    {
      "cell_type": "markdown",
      "metadata": {
        "id": "Vnm_9P2wqhWm"
      },
      "source": [
        "#### 문자열 (string)"
      ]
    },
    {
      "cell_type": "code",
      "execution_count": 19,
      "metadata": {
        "collapsed": true,
        "id": "4TT_OKIHqhWm"
      },
      "outputs": [],
      "source": [
        "s = \"Hello\""
      ]
    },
    {
      "cell_type": "code",
      "execution_count": 20,
      "metadata": {
        "colab": {
          "base_uri": "https://localhost:8080/"
        },
        "id": "R-x_orF5qhWm",
        "outputId": "183dad77-5591-467a-e7e5-0c9660ec3ecc"
      },
      "outputs": [
        {
          "output_type": "stream",
          "name": "stdout",
          "text": [
            "Hello\n",
            "<class 'str'>\n"
          ]
        }
      ],
      "source": [
        "print(s)\n",
        "print(type(s))"
      ]
    },
    {
      "cell_type": "code",
      "execution_count": 21,
      "metadata": {
        "colab": {
          "base_uri": "https://localhost:8080/"
        },
        "id": "FJUNzt-xqhWn",
        "outputId": "6b2b0cdb-3449-4a64-969e-863b08da3730"
      },
      "outputs": [
        {
          "output_type": "execute_result",
          "data": {
            "text/plain": [
              "5"
            ]
          },
          "metadata": {},
          "execution_count": 21
        }
      ],
      "source": [
        "len(s)"
      ]
    },
    {
      "cell_type": "code",
      "execution_count": 22,
      "metadata": {
        "colab": {
          "base_uri": "https://localhost:8080/",
          "height": 35
        },
        "id": "j6-PTr1dqhWn",
        "outputId": "b068bd6d-3530-4a6c-d083-b94bed311e7e"
      },
      "outputs": [
        {
          "output_type": "execute_result",
          "data": {
            "text/plain": [
              "'HELLO'"
            ],
            "application/vnd.google.colaboratory.intrinsic+json": {
              "type": "string"
            }
          },
          "metadata": {},
          "execution_count": 22
        }
      ],
      "source": [
        "s.upper()"
      ]
    },
    {
      "cell_type": "code",
      "execution_count": 23,
      "metadata": {
        "colab": {
          "base_uri": "https://localhost:8080/",
          "height": 35
        },
        "id": "opAatPjLqhWn",
        "outputId": "a08071ef-ef1c-403f-82ed-90a7794b5672"
      },
      "outputs": [
        {
          "output_type": "execute_result",
          "data": {
            "text/plain": [
              "'hello'"
            ],
            "application/vnd.google.colaboratory.intrinsic+json": {
              "type": "string"
            }
          },
          "metadata": {},
          "execution_count": 23
        }
      ],
      "source": [
        "s.lower()"
      ]
    },
    {
      "cell_type": "code",
      "execution_count": 24,
      "metadata": {
        "colab": {
          "base_uri": "https://localhost:8080/"
        },
        "id": "4uRlrXgTqhWn",
        "outputId": "fa3e5262-b956-4e24-c56a-22607f242436"
      },
      "outputs": [
        {
          "output_type": "stream",
          "name": "stdout",
          "text": [
            "My name is Groot\n"
          ]
        }
      ],
      "source": [
        "print(\"My name is {}\".format(\"Groot\"))"
      ]
    },
    {
      "cell_type": "code",
      "execution_count": 25,
      "metadata": {
        "colab": {
          "base_uri": "https://localhost:8080/"
        },
        "id": "b4JKoWKNqhWn",
        "outputId": "89caeb5f-3aca-4319-b012-54b746d6c05e"
      },
      "outputs": [
        {
          "output_type": "stream",
          "name": "stdout",
          "text": [
            "My name is Groot and I'm 99 years old\n"
          ]
        }
      ],
      "source": [
        "print(\"My name is {} and I'm {} years old\".format(\"Groot\", 99))"
      ]
    },
    {
      "cell_type": "code",
      "execution_count": 26,
      "metadata": {
        "colab": {
          "base_uri": "https://localhost:8080/"
        },
        "id": "cgQA6BhJqhWo",
        "outputId": "b86db581-415c-47cc-9910-0bbd8c0543f5"
      },
      "outputs": [
        {
          "output_type": "stream",
          "name": "stdout",
          "text": [
            "Hello world\n"
          ]
        }
      ],
      "source": [
        "print(\"Hello\" + \" \" + \"world\")"
      ]
    },
    {
      "cell_type": "code",
      "execution_count": 27,
      "metadata": {
        "collapsed": true,
        "id": "rAtwGUt6qhWo"
      },
      "outputs": [],
      "source": [
        "temp = \"Python\""
      ]
    },
    {
      "cell_type": "code",
      "execution_count": 28,
      "metadata": {
        "colab": {
          "base_uri": "https://localhost:8080/",
          "height": 35
        },
        "id": "puXeawz4qhWo",
        "outputId": "f97c9c26-f86f-470b-d8d5-a28f9f118bca"
      },
      "outputs": [
        {
          "output_type": "execute_result",
          "data": {
            "text/plain": [
              "'P'"
            ],
            "application/vnd.google.colaboratory.intrinsic+json": {
              "type": "string"
            }
          },
          "metadata": {},
          "execution_count": 28
        }
      ],
      "source": [
        "temp[0]"
      ]
    },
    {
      "cell_type": "code",
      "execution_count": 29,
      "metadata": {
        "colab": {
          "base_uri": "https://localhost:8080/",
          "height": 35
        },
        "id": "zFe2yokdqhWo",
        "outputId": "ae698392-9073-43a3-a554-96b1e022438c"
      },
      "outputs": [
        {
          "output_type": "execute_result",
          "data": {
            "text/plain": [
              "'Pyth'"
            ],
            "application/vnd.google.colaboratory.intrinsic+json": {
              "type": "string"
            }
          },
          "metadata": {},
          "execution_count": 29
        }
      ],
      "source": [
        "temp[0:4]"
      ]
    },
    {
      "cell_type": "code",
      "execution_count": 30,
      "metadata": {
        "colab": {
          "base_uri": "https://localhost:8080/"
        },
        "id": "ZbUA6F0xqhWo",
        "outputId": "c3d46ded-5cee-48e6-8734-a6186665749f"
      },
      "outputs": [
        {
          "output_type": "execute_result",
          "data": {
            "text/plain": [
              "['Python', 'is', 'easy']"
            ]
          },
          "metadata": {},
          "execution_count": 30
        }
      ],
      "source": [
        "temp = \"Python is easy\"\n",
        "temp.split()"
      ]
    },
    {
      "cell_type": "code",
      "execution_count": 31,
      "metadata": {
        "colab": {
          "base_uri": "https://localhost:8080/"
        },
        "id": "XWBd-EZvqhWo",
        "outputId": "b79516a3-eb0b-41f3-a65b-1304ae14e060"
      },
      "outputs": [
        {
          "output_type": "execute_result",
          "data": {
            "text/plain": [
              "['Python', ' is', ' easy']"
            ]
          },
          "metadata": {},
          "execution_count": 31
        }
      ],
      "source": [
        "temp = \"Python, is, easy\"\n",
        "temp.split(\",\")"
      ]
    },
    {
      "cell_type": "code",
      "execution_count": 32,
      "metadata": {
        "colab": {
          "base_uri": "https://localhost:8080/",
          "height": 35
        },
        "id": "0H4Q_ISLqhWp",
        "outputId": "48649c04-17fd-4477-d4b8-8e57d9895933"
      },
      "outputs": [
        {
          "output_type": "execute_result",
          "data": {
            "text/plain": [
              "'Python#is#easy'"
            ],
            "application/vnd.google.colaboratory.intrinsic+json": {
              "type": "string"
            }
          },
          "metadata": {},
          "execution_count": 32
        }
      ],
      "source": [
        "temp = ['Python', 'is', 'easy']\n",
        "'#'.join(temp)"
      ]
    },
    {
      "cell_type": "code",
      "execution_count": 33,
      "metadata": {
        "colab": {
          "base_uri": "https://localhost:8080/",
          "height": 35
        },
        "id": "2g9cdMyZqhWp",
        "outputId": "cedeb244-3dbd-4909-f3f6-37f004385fd6"
      },
      "outputs": [
        {
          "output_type": "execute_result",
          "data": {
            "text/plain": [
              "'Python is easy'"
            ],
            "application/vnd.google.colaboratory.intrinsic+json": {
              "type": "string"
            }
          },
          "metadata": {},
          "execution_count": 33
        }
      ],
      "source": [
        "' '.join(temp)"
      ]
    },
    {
      "cell_type": "code",
      "execution_count": 34,
      "metadata": {
        "colab": {
          "base_uri": "https://localhost:8080/",
          "height": 35
        },
        "id": "VHxXS5mNqhWp",
        "outputId": "a8530165-ebe7-4593-9690-a9d4c54afe22"
      },
      "outputs": [
        {
          "output_type": "execute_result",
          "data": {
            "text/plain": [
              "'214'"
            ],
            "application/vnd.google.colaboratory.intrinsic+json": {
              "type": "string"
            }
          },
          "metadata": {},
          "execution_count": 34
        }
      ],
      "source": [
        "x = 214\n",
        "str(x)"
      ]
    },
    {
      "cell_type": "markdown",
      "metadata": {
        "id": "zke7XntzqhWp"
      },
      "source": [
        "#### 참/거짓 (bool)"
      ]
    },
    {
      "cell_type": "code",
      "execution_count": 35,
      "metadata": {
        "collapsed": true,
        "id": "RPj5nSVcqhWp"
      },
      "outputs": [],
      "source": [
        "t = True\n",
        "f = False"
      ]
    },
    {
      "cell_type": "code",
      "execution_count": 36,
      "metadata": {
        "colab": {
          "base_uri": "https://localhost:8080/"
        },
        "id": "Ao2SIEXlqhWp",
        "outputId": "7d52aa81-a376-4f53-c565-b8abd423a4e4"
      },
      "outputs": [
        {
          "output_type": "stream",
          "name": "stdout",
          "text": [
            "<class 'bool'>\n"
          ]
        }
      ],
      "source": [
        "print(type(t))"
      ]
    },
    {
      "cell_type": "code",
      "execution_count": 37,
      "metadata": {
        "colab": {
          "base_uri": "https://localhost:8080/"
        },
        "id": "esrpyynQqhWq",
        "outputId": "5cfae492-4652-47e3-c9ff-69dd8ed73e0d"
      },
      "outputs": [
        {
          "output_type": "stream",
          "name": "stdout",
          "text": [
            "False\n"
          ]
        }
      ],
      "source": [
        "print(t and f)"
      ]
    },
    {
      "cell_type": "code",
      "execution_count": 38,
      "metadata": {
        "colab": {
          "base_uri": "https://localhost:8080/"
        },
        "id": "YcypnjvgqhWq",
        "outputId": "a35ebf02-d1a1-4eeb-a369-73c9cc343cb5"
      },
      "outputs": [
        {
          "output_type": "stream",
          "name": "stdout",
          "text": [
            "True\n"
          ]
        }
      ],
      "source": [
        "print(t or f)"
      ]
    },
    {
      "cell_type": "code",
      "execution_count": 39,
      "metadata": {
        "colab": {
          "base_uri": "https://localhost:8080/"
        },
        "id": "hiig3aUdqhWq",
        "outputId": "5a23227e-d0d8-4e74-c653-90e7ada80353"
      },
      "outputs": [
        {
          "output_type": "stream",
          "name": "stdout",
          "text": [
            "False\n"
          ]
        }
      ],
      "source": [
        "print(not t)"
      ]
    },
    {
      "cell_type": "markdown",
      "metadata": {
        "id": "wWeJdgXqqhWq"
      },
      "source": [
        "<br>\n",
        "\n",
        "#### 2. 함수 (function, method)"
      ]
    },
    {
      "cell_type": "code",
      "execution_count": 40,
      "metadata": {
        "collapsed": true,
        "id": "ye1NwT77qhWq"
      },
      "outputs": [],
      "source": [
        "def just_print():\n",
        "    print(\"Yes, I'm groot\")"
      ]
    },
    {
      "cell_type": "code",
      "execution_count": 41,
      "metadata": {
        "colab": {
          "base_uri": "https://localhost:8080/"
        },
        "id": "HM5537ysqhWr",
        "outputId": "31686d71-c6aa-4aa8-b5ed-99060a1ceedb"
      },
      "outputs": [
        {
          "output_type": "stream",
          "name": "stdout",
          "text": [
            "Yes, I'm groot\n"
          ]
        }
      ],
      "source": [
        "just_print()"
      ]
    },
    {
      "cell_type": "code",
      "execution_count": 42,
      "metadata": {
        "collapsed": true,
        "id": "X5Vps4fHqhWr"
      },
      "outputs": [],
      "source": [
        "def add_nums(x, y):\n",
        "    print(x+y)"
      ]
    },
    {
      "cell_type": "code",
      "execution_count": 43,
      "metadata": {
        "colab": {
          "base_uri": "https://localhost:8080/"
        },
        "id": "_oU62N5GqhWr",
        "outputId": "66d74376-c25a-405e-b6d9-c51302201933"
      },
      "outputs": [
        {
          "output_type": "stream",
          "name": "stdout",
          "text": [
            "5\n"
          ]
        }
      ],
      "source": [
        "add_nums(2, 3)"
      ]
    },
    {
      "cell_type": "code",
      "execution_count": 44,
      "metadata": {
        "collapsed": true,
        "id": "S5l-J5y5qhWr"
      },
      "outputs": [],
      "source": [
        "def add_nums(x, y):\n",
        "    return x+y"
      ]
    },
    {
      "cell_type": "code",
      "execution_count": 45,
      "metadata": {
        "collapsed": true,
        "id": "P_pjEFMdqhWr"
      },
      "outputs": [],
      "source": [
        "a = add_nums(3, 4)"
      ]
    },
    {
      "cell_type": "code",
      "execution_count": 46,
      "metadata": {
        "colab": {
          "base_uri": "https://localhost:8080/"
        },
        "id": "hWQtBpUUqhWr",
        "outputId": "1a468428-d7ce-4465-cb62-f884922aa532"
      },
      "outputs": [
        {
          "output_type": "execute_result",
          "data": {
            "text/plain": [
              "7"
            ]
          },
          "metadata": {},
          "execution_count": 46
        }
      ],
      "source": [
        "a"
      ]
    },
    {
      "cell_type": "code",
      "execution_count": 47,
      "metadata": {
        "collapsed": true,
        "id": "arvwMHy0qhWr"
      },
      "outputs": [],
      "source": [
        "# Quiz 1. 성과 이름을 받아 이름을 출력해주는 함수 name_creater 만들기\n",
        "\n",
        "def name_creater(last, first):\n",
        "    print(last + first)"
      ]
    },
    {
      "cell_type": "code",
      "execution_count": 48,
      "metadata": {
        "colab": {
          "base_uri": "https://localhost:8080/"
        },
        "id": "v-80TAVYqhWs",
        "outputId": "c781b12d-0359-44fa-eeaa-c04aa27a963a"
      },
      "outputs": [
        {
          "output_type": "stream",
          "name": "stdout",
          "text": [
            "그루트\n"
          ]
        }
      ],
      "source": [
        "name_creater(\"그\", \"루트\")"
      ]
    },
    {
      "cell_type": "code",
      "execution_count": 51,
      "metadata": {
        "id": "saPIW11PqhWs"
      },
      "outputs": [],
      "source": [
        "# Quiz 2. 다음 함수는 에러를 출력합니다. 어디를 고쳐야할까요?\n",
        "def drink():\n",
        "  beverage = \"Coke\"\n",
        "  print(beverage)"
      ]
    },
    {
      "cell_type": "code",
      "execution_count": 52,
      "metadata": {
        "collapsed": true,
        "id": "6vj-RPYhqhWs"
      },
      "outputs": [],
      "source": [
        "# Quiz 3. 원의 반지름을 받아 원의 넓이를 Return 해주는 함수 circle_area 만들기 (ㅠ = 3.14)\n",
        "def circle_area(r):\n",
        "    return r ** 2 * 3.14"
      ]
    },
    {
      "cell_type": "code",
      "execution_count": 54,
      "metadata": {
        "colab": {
          "base_uri": "https://localhost:8080/"
        },
        "id": "jzzTu_32qhWs",
        "outputId": "8c98717c-d149-442a-dc70-7cf8990de6ae"
      },
      "outputs": [
        {
          "output_type": "execute_result",
          "data": {
            "text/plain": [
              "314.0"
            ]
          },
          "metadata": {},
          "execution_count": 54
        }
      ],
      "source": [
        "circle_area(10)"
      ]
    },
    {
      "cell_type": "markdown",
      "metadata": {
        "id": "fNWsS3DLqhWs"
      },
      "source": [
        "<br>\n",
        "#### 3. 컨테이너 (다른 변수들을 담을 수 있는 자료형)\n",
        "list, dict, tuple, set"
      ]
    },
    {
      "cell_type": "markdown",
      "metadata": {
        "id": "zFzMBdVKqhWs"
      },
      "source": [
        "#### 리스트 (list)"
      ]
    },
    {
      "cell_type": "code",
      "execution_count": 55,
      "metadata": {
        "colab": {
          "base_uri": "https://localhost:8080/"
        },
        "id": "psLFG8GqqhWt",
        "outputId": "c6f527c5-0b15-4317-f4e0-6b8cbdc2f95f"
      },
      "outputs": [
        {
          "output_type": "execute_result",
          "data": {
            "text/plain": [
              "[3, 1, 2, 4, 6]"
            ]
          },
          "metadata": {},
          "execution_count": 55
        }
      ],
      "source": [
        "x = [3, 1, 2, 4, 6]\n",
        "x"
      ]
    },
    {
      "cell_type": "code",
      "execution_count": 56,
      "metadata": {
        "colab": {
          "base_uri": "https://localhost:8080/"
        },
        "id": "OJ3V_XOJqhWt",
        "outputId": "4695af5b-2077-4f6d-fe22-cbc6e95da15c"
      },
      "outputs": [
        {
          "output_type": "execute_result",
          "data": {
            "text/plain": [
              "3"
            ]
          },
          "metadata": {},
          "execution_count": 56
        }
      ],
      "source": [
        "x[0]"
      ]
    },
    {
      "cell_type": "code",
      "execution_count": 57,
      "metadata": {
        "colab": {
          "base_uri": "https://localhost:8080/"
        },
        "id": "khasYeygqhWt",
        "outputId": "e2b77ded-5996-46e3-d352-bda43b53c5d8"
      },
      "outputs": [
        {
          "output_type": "execute_result",
          "data": {
            "text/plain": [
              "[3, 1, 2]"
            ]
          },
          "metadata": {},
          "execution_count": 57
        }
      ],
      "source": [
        "x[0:3]"
      ]
    },
    {
      "cell_type": "code",
      "execution_count": 58,
      "metadata": {
        "colab": {
          "base_uri": "https://localhost:8080/"
        },
        "id": "ab-h9nAnqhWt",
        "outputId": "c87f4cf2-62a6-4c38-b7ef-1de889b45ba9"
      },
      "outputs": [
        {
          "output_type": "execute_result",
          "data": {
            "text/plain": [
              "[1, 2, 4, 6]"
            ]
          },
          "metadata": {},
          "execution_count": 58
        }
      ],
      "source": [
        "x[1:]"
      ]
    },
    {
      "cell_type": "code",
      "execution_count": 59,
      "metadata": {
        "colab": {
          "base_uri": "https://localhost:8080/"
        },
        "id": "QvdJxRSZqhWt",
        "outputId": "c6e85971-47b3-489c-8bdc-981c1c8b1aa0"
      },
      "outputs": [
        {
          "output_type": "execute_result",
          "data": {
            "text/plain": [
              "6"
            ]
          },
          "metadata": {},
          "execution_count": 59
        }
      ],
      "source": [
        "x[-1]"
      ]
    },
    {
      "cell_type": "code",
      "execution_count": 60,
      "metadata": {
        "colab": {
          "base_uri": "https://localhost:8080/"
        },
        "id": "tv53JL8bqhWt",
        "outputId": "7502f756-c053-49d9-ab5c-b1202fab00d3"
      },
      "outputs": [
        {
          "output_type": "execute_result",
          "data": {
            "text/plain": [
              "[3, 1, 2, 4, 6, 10]"
            ]
          },
          "metadata": {},
          "execution_count": 60
        }
      ],
      "source": [
        "# 리스트 item 추가하기\n",
        "\n",
        "x.append(10) \n",
        "x"
      ]
    },
    {
      "cell_type": "code",
      "execution_count": 61,
      "metadata": {
        "colab": {
          "base_uri": "https://localhost:8080/"
        },
        "id": "BTNdg2LbqhWu",
        "outputId": "f1640ba6-16d3-4dc7-ff3e-782194dd3f27"
      },
      "outputs": [
        {
          "output_type": "execute_result",
          "data": {
            "text/plain": [
              "[1, 2, 4, 6, 10]"
            ]
          },
          "metadata": {},
          "execution_count": 61
        }
      ],
      "source": [
        "del x[0]\n",
        "x"
      ]
    },
    {
      "cell_type": "code",
      "execution_count": 62,
      "metadata": {
        "colab": {
          "base_uri": "https://localhost:8080/"
        },
        "id": "GZ_YaYqIqhWu",
        "outputId": "0970d9ef-bfbf-4314-a4be-a8c87702be4d"
      },
      "outputs": [
        {
          "output_type": "execute_result",
          "data": {
            "text/plain": [
              "[1, 2, 6, 10]"
            ]
          },
          "metadata": {},
          "execution_count": 62
        }
      ],
      "source": [
        "x.remove(4)\n",
        "x"
      ]
    },
    {
      "cell_type": "code",
      "execution_count": 63,
      "metadata": {
        "colab": {
          "base_uri": "https://localhost:8080/"
        },
        "id": "So3vusOPqhWu",
        "outputId": "e9c16c11-770e-45d7-837a-7809dcd6323f"
      },
      "outputs": [
        {
          "output_type": "execute_result",
          "data": {
            "text/plain": [
              "[1, 2, 6, 10, 3, 4, 5]"
            ]
          },
          "metadata": {},
          "execution_count": 63
        }
      ],
      "source": [
        "# 리스트 합치기\n",
        "y = [3, 4, 5]\n",
        "z = x + y\n",
        "z"
      ]
    },
    {
      "cell_type": "code",
      "execution_count": 64,
      "metadata": {
        "colab": {
          "base_uri": "https://localhost:8080/"
        },
        "id": "dvqEklyCqhWu",
        "outputId": "489a6137-21cb-4f87-d0ce-04d66e2d8fea"
      },
      "outputs": [
        {
          "output_type": "execute_result",
          "data": {
            "text/plain": [
              "[1, 2, 3, 4, 5, 6, 10]"
            ]
          },
          "metadata": {},
          "execution_count": 64
        }
      ],
      "source": [
        "# 리스트 정렬하기\n",
        "z.sort()\n",
        "z"
      ]
    },
    {
      "cell_type": "code",
      "execution_count": 65,
      "metadata": {
        "colab": {
          "base_uri": "https://localhost:8080/"
        },
        "id": "arS9heGuqhWu",
        "outputId": "b85f168e-dced-4998-f300-05b65b60ba8d"
      },
      "outputs": [
        {
          "output_type": "execute_result",
          "data": {
            "text/plain": [
              "[10, 6, 5, 4, 3, 2, 1]"
            ]
          },
          "metadata": {},
          "execution_count": 65
        }
      ],
      "source": [
        "# 리스트 역으로 정렬하기\n",
        "z.sort(reverse=True)\n",
        "z"
      ]
    },
    {
      "cell_type": "markdown",
      "metadata": {
        "id": "eJIm6O1CqhWv"
      },
      "source": [
        "#### 딕셔너리 (dict)"
      ]
    },
    {
      "cell_type": "code",
      "execution_count": 66,
      "metadata": {
        "colab": {
          "base_uri": "https://localhost:8080/"
        },
        "id": "1ezoYdu4qhWv",
        "outputId": "eaa28664-d94b-43df-c9d9-1c2f98301cb8"
      },
      "outputs": [
        {
          "output_type": "execute_result",
          "data": {
            "text/plain": [
              "{'Cat': '야옹', 'Dog': '멍멍'}"
            ]
          },
          "metadata": {},
          "execution_count": 66
        }
      ],
      "source": [
        "cage = {'Cat' : '야옹', 'Dog' : '멍멍'}\n",
        "cage"
      ]
    },
    {
      "cell_type": "code",
      "execution_count": 67,
      "metadata": {
        "colab": {
          "base_uri": "https://localhost:8080/",
          "height": 35
        },
        "id": "TMBDVyFUqhWv",
        "outputId": "31158807-1989-4c86-d490-db53d65f42fe"
      },
      "outputs": [
        {
          "output_type": "execute_result",
          "data": {
            "text/plain": [
              "'야옹'"
            ],
            "application/vnd.google.colaboratory.intrinsic+json": {
              "type": "string"
            }
          },
          "metadata": {},
          "execution_count": 67
        }
      ],
      "source": [
        "cage['Cat']"
      ]
    },
    {
      "cell_type": "code",
      "execution_count": 68,
      "metadata": {
        "colab": {
          "base_uri": "https://localhost:8080/",
          "height": 35
        },
        "id": "gqSgC5pgqhWv",
        "outputId": "f07eb30a-c65d-47cf-bbb1-0737d37602be"
      },
      "outputs": [
        {
          "output_type": "execute_result",
          "data": {
            "text/plain": [
              "'야옹'"
            ],
            "application/vnd.google.colaboratory.intrinsic+json": {
              "type": "string"
            }
          },
          "metadata": {},
          "execution_count": 68
        }
      ],
      "source": [
        "cage.get('Cat')"
      ]
    },
    {
      "cell_type": "code",
      "execution_count": 69,
      "metadata": {
        "colab": {
          "base_uri": "https://localhost:8080/",
          "height": 35
        },
        "id": "fwhHUm1nqhWw",
        "outputId": "68d485ed-81e4-4955-b95b-bab11f08cde9"
      },
      "outputs": [
        {
          "output_type": "execute_result",
          "data": {
            "text/plain": [
              "'집나감'"
            ],
            "application/vnd.google.colaboratory.intrinsic+json": {
              "type": "string"
            }
          },
          "metadata": {},
          "execution_count": 69
        }
      ],
      "source": [
        "cage.get('Fish', '집나감')"
      ]
    },
    {
      "cell_type": "code",
      "execution_count": 70,
      "metadata": {
        "colab": {
          "base_uri": "https://localhost:8080/"
        },
        "id": "5Ql_KelQqhWw",
        "outputId": "9457d953-42f5-46b6-a655-09c4a7965b1c"
      },
      "outputs": [
        {
          "output_type": "stream",
          "name": "stdout",
          "text": [
            "False\n"
          ]
        }
      ],
      "source": [
        "print('Pig' in cage)"
      ]
    },
    {
      "cell_type": "code",
      "execution_count": 71,
      "metadata": {
        "colab": {
          "base_uri": "https://localhost:8080/"
        },
        "id": "Pf0fRC5rqhWw",
        "outputId": "a33016db-010c-46c8-e865-de88f6cc0cea"
      },
      "outputs": [
        {
          "output_type": "execute_result",
          "data": {
            "text/plain": [
              "{'Cat': '야옹', 'Dog': '멍멍', 'Pig': '꿀꿀'}"
            ]
          },
          "metadata": {},
          "execution_count": 71
        }
      ],
      "source": [
        "cage['Pig'] = '꿀꿀'\n",
        "cage"
      ]
    },
    {
      "cell_type": "code",
      "execution_count": 72,
      "metadata": {
        "colab": {
          "base_uri": "https://localhost:8080/"
        },
        "id": "6d0lYwJ6qhWw",
        "outputId": "c3c7a781-43ef-40dc-8ad0-653d15ed6a0f"
      },
      "outputs": [
        {
          "output_type": "execute_result",
          "data": {
            "text/plain": [
              "{'Cat': '야옹', 'Dog': '멍멍'}"
            ]
          },
          "metadata": {},
          "execution_count": 72
        }
      ],
      "source": [
        "del cage['Pig']\n",
        "cage"
      ]
    },
    {
      "cell_type": "code",
      "execution_count": 73,
      "metadata": {
        "colab": {
          "base_uri": "https://localhost:8080/"
        },
        "id": "V0NfonnuqhWw",
        "outputId": "6d46f752-3508-4805-db29-940520b17889"
      },
      "outputs": [
        {
          "output_type": "execute_result",
          "data": {
            "text/plain": [
              "dict_keys(['Cat', 'Dog'])"
            ]
          },
          "metadata": {},
          "execution_count": 73
        }
      ],
      "source": [
        "cage.keys()"
      ]
    },
    {
      "cell_type": "code",
      "execution_count": 74,
      "metadata": {
        "colab": {
          "base_uri": "https://localhost:8080/"
        },
        "id": "-ZLSRyU5qhWw",
        "outputId": "afb1bb30-b969-476a-d02d-ae9f0714f050"
      },
      "outputs": [
        {
          "output_type": "execute_result",
          "data": {
            "text/plain": [
              "dict_values(['야옹', '멍멍'])"
            ]
          },
          "metadata": {},
          "execution_count": 74
        }
      ],
      "source": [
        "cage.values()"
      ]
    },
    {
      "cell_type": "code",
      "execution_count": 75,
      "metadata": {
        "colab": {
          "base_uri": "https://localhost:8080/"
        },
        "id": "BEcuPzsFqhWx",
        "outputId": "89687795-80db-401b-dc10-bec3288409ac"
      },
      "outputs": [
        {
          "output_type": "execute_result",
          "data": {
            "text/plain": [
              "{'Cat': '야옹', 'Dog': '멍멍', 'Tiger': '어흥'}"
            ]
          },
          "metadata": {},
          "execution_count": 75
        }
      ],
      "source": [
        "# list -> dict\n",
        "\n",
        "temp = [['Cat', '야옹'], ['Dog', '멍멍'], ['Tiger', '어흥']]\n",
        "cage = dict(temp)\n",
        "cage"
      ]
    },
    {
      "cell_type": "markdown",
      "metadata": {
        "id": "73zHQTofqhWx"
      },
      "source": [
        "#### 튜플(tuple) \n",
        "값과 크기가 변하지 않음"
      ]
    },
    {
      "cell_type": "code",
      "execution_count": 76,
      "metadata": {
        "colab": {
          "base_uri": "https://localhost:8080/"
        },
        "id": "02jbXbj6qhWx",
        "outputId": "008e246e-24b0-45ba-af6c-2da0f0e607d7"
      },
      "outputs": [
        {
          "output_type": "execute_result",
          "data": {
            "text/plain": [
              "tuple"
            ]
          },
          "metadata": {},
          "execution_count": 76
        }
      ],
      "source": [
        "t = (5, 6)\n",
        "type(t)"
      ]
    },
    {
      "cell_type": "code",
      "execution_count": 77,
      "metadata": {
        "colab": {
          "base_uri": "https://localhost:8080/"
        },
        "id": "uRcBxBgTqhWx",
        "outputId": "fc2d64a1-ebde-446a-9011-20bafa5f7ce8"
      },
      "outputs": [
        {
          "output_type": "execute_result",
          "data": {
            "text/plain": [
              "5"
            ]
          },
          "metadata": {},
          "execution_count": 77
        }
      ],
      "source": [
        "t[0]"
      ]
    },
    {
      "cell_type": "code",
      "execution_count": 78,
      "metadata": {
        "collapsed": true,
        "id": "D6TqUDHaqhWx"
      },
      "outputs": [],
      "source": [
        "def return_tuple(x, y):\n",
        "    return x, y"
      ]
    },
    {
      "cell_type": "code",
      "execution_count": 79,
      "metadata": {
        "colab": {
          "base_uri": "https://localhost:8080/"
        },
        "id": "oHm6fqk6qhWx",
        "outputId": "748df178-db30-4282-de6f-06dc92eaee5f"
      },
      "outputs": [
        {
          "output_type": "execute_result",
          "data": {
            "text/plain": [
              "(3, 4)"
            ]
          },
          "metadata": {},
          "execution_count": 79
        }
      ],
      "source": [
        "what = return_tuple(3, 4)\n",
        "what"
      ]
    },
    {
      "cell_type": "markdown",
      "metadata": {
        "id": "5d_p8BNjqhWy"
      },
      "source": [
        "#### 집합(set)\n",
        "중복을 허용하지 않음"
      ]
    },
    {
      "cell_type": "code",
      "execution_count": 80,
      "metadata": {
        "colab": {
          "base_uri": "https://localhost:8080/"
        },
        "id": "dULQJGonqhWy",
        "outputId": "3dc12059-2dde-4d82-9c5f-f20cec677984"
      },
      "outputs": [
        {
          "output_type": "execute_result",
          "data": {
            "text/plain": [
              "{1, 2, 3, 4, 5}"
            ]
          },
          "metadata": {},
          "execution_count": 80
        }
      ],
      "source": [
        "s = {1, 2, 3, 3, 4, 4, 5}\n",
        "s"
      ]
    },
    {
      "cell_type": "code",
      "execution_count": 81,
      "metadata": {
        "colab": {
          "base_uri": "https://localhost:8080/"
        },
        "id": "P43yeHyuqhWy",
        "outputId": "5b01d2ea-7e36-4f74-ea22-1d2037c04e47"
      },
      "outputs": [
        {
          "output_type": "execute_result",
          "data": {
            "text/plain": [
              "[1, 2, 3, 3, 4, 4, 5]"
            ]
          },
          "metadata": {},
          "execution_count": 81
        }
      ],
      "source": [
        "temp = [1, 2, 3, 3, 4, 4, 5]\n",
        "temp"
      ]
    },
    {
      "cell_type": "code",
      "execution_count": 82,
      "metadata": {
        "colab": {
          "base_uri": "https://localhost:8080/"
        },
        "id": "X3b9_liGqhWy",
        "outputId": "736e3c4b-91d6-46dd-9f92-b428daa0128b"
      },
      "outputs": [
        {
          "output_type": "execute_result",
          "data": {
            "text/plain": [
              "[1, 2, 3, 4, 5]"
            ]
          },
          "metadata": {},
          "execution_count": 82
        }
      ],
      "source": [
        "what = list(set(temp))\n",
        "what"
      ]
    },
    {
      "cell_type": "markdown",
      "metadata": {
        "id": "itM32odlqhWy"
      },
      "source": [
        "<br>\n",
        "#### 4. 조건문과 반복문\n",
        "if, for, while"
      ]
    },
    {
      "cell_type": "markdown",
      "metadata": {
        "id": "kQCEiYJvqhWy"
      },
      "source": [
        "#### if"
      ]
    },
    {
      "cell_type": "code",
      "execution_count": 83,
      "metadata": {
        "id": "T_7OJJo6qhWy"
      },
      "outputs": [],
      "source": [
        "def check_price(lunch_price):\n",
        "    \n",
        "    price_label = ''\n",
        "    \n",
        "    if lunch_price > 10000:\n",
        "        price_label = \"프리미엄 도시락\"\n",
        "    elif lunch_price < 3000: \n",
        "        price_label = \"저렴이 도시락\"\n",
        "    else: # 나머지 조건 모두 받기\n",
        "        price_label = \"무난무난 도시락\"\n",
        "        \n",
        "    return price_label"
      ]
    },
    {
      "cell_type": "code",
      "execution_count": 84,
      "metadata": {
        "colab": {
          "base_uri": "https://localhost:8080/",
          "height": 35
        },
        "id": "4VJD0wK5qhWz",
        "outputId": "ff3d9dd3-d106-4e26-b487-9ff8f7fe4f40"
      },
      "outputs": [
        {
          "output_type": "execute_result",
          "data": {
            "text/plain": [
              "'무난무난 도시락'"
            ],
            "application/vnd.google.colaboratory.intrinsic+json": {
              "type": "string"
            }
          },
          "metadata": {},
          "execution_count": 84
        }
      ],
      "source": [
        "check_price(7000)"
      ]
    },
    {
      "cell_type": "code",
      "execution_count": 85,
      "metadata": {
        "collapsed": true,
        "id": "Ph-11RxXqhWz"
      },
      "outputs": [],
      "source": [
        "cage = ['Cat', 'Dog', 'Tiger']"
      ]
    },
    {
      "cell_type": "code",
      "execution_count": 86,
      "metadata": {
        "colab": {
          "base_uri": "https://localhost:8080/"
        },
        "id": "flUtJ7PIqhWz",
        "outputId": "52c5ce50-993e-4a75-be51-e3fc5b7710b7"
      },
      "outputs": [
        {
          "output_type": "stream",
          "name": "stdout",
          "text": [
            "야옹아 이리온\n"
          ]
        }
      ],
      "source": [
        "if 'Cat' in cage:\n",
        "    print('야옹아 이리온')"
      ]
    },
    {
      "cell_type": "code",
      "execution_count": 87,
      "metadata": {
        "collapsed": true,
        "id": "Ky5WCCJZqhWz"
      },
      "outputs": [],
      "source": [
        "cage = {'Cat': '야옹', 'Dog': '멍멍', 'Tiger': '어흥'}"
      ]
    },
    {
      "cell_type": "code",
      "execution_count": 88,
      "metadata": {
        "colab": {
          "base_uri": "https://localhost:8080/"
        },
        "id": "nEsKRA1mqhWz",
        "outputId": "365a6625-8cb9-4953-d5eb-3182dbe8d84b"
      },
      "outputs": [
        {
          "output_type": "stream",
          "name": "stdout",
          "text": [
            "치와와는 언제와\n"
          ]
        }
      ],
      "source": [
        "if 'Dog' in cage.keys():\n",
        "    print('치와와는 언제와')"
      ]
    },
    {
      "cell_type": "code",
      "execution_count": 89,
      "metadata": {
        "collapsed": true,
        "id": "QuLZt0WCqhWz"
      },
      "outputs": [],
      "source": [
        "number = 100"
      ]
    },
    {
      "cell_type": "code",
      "execution_count": 90,
      "metadata": {
        "colab": {
          "base_uri": "https://localhost:8080/"
        },
        "id": "nDbdtInUqhWz",
        "outputId": "ecfe562c-d537-402a-9a78-95cb6b3421fb"
      },
      "outputs": [
        {
          "output_type": "stream",
          "name": "stdout",
          "text": [
            "100점을 못 받았어 ㅠㅠ\n"
          ]
        },
        {
          "output_type": "stream",
          "name": "stderr",
          "text": [
            "<>:1: SyntaxWarning: \"is not\" with a literal. Did you mean \"!=\"?\n",
            "<>:1: SyntaxWarning: \"is not\" with a literal. Did you mean \"!=\"?\n",
            "<ipython-input-90-d022cbd15501>:1: SyntaxWarning: \"is not\" with a literal. Did you mean \"!=\"?\n",
            "  if 99 is not number:\n"
          ]
        }
      ],
      "source": [
        "if 99 is not number:\n",
        "    print(\"100점을 못 받았어 ㅠㅠ\")"
      ]
    },
    {
      "cell_type": "markdown",
      "metadata": {
        "id": "jqkbzgYAqhW0"
      },
      "source": [
        "#### for"
      ]
    },
    {
      "cell_type": "code",
      "execution_count": 91,
      "metadata": {
        "collapsed": true,
        "id": "2HN0RMeDqhW0"
      },
      "outputs": [],
      "source": [
        "nums = [1, 2, 3, 4, 5]"
      ]
    },
    {
      "cell_type": "code",
      "execution_count": 92,
      "metadata": {
        "colab": {
          "base_uri": "https://localhost:8080/"
        },
        "id": "FeQ4_U7uqhW0",
        "outputId": "ab5ec9c2-ea0a-4d6d-b49d-16b062043e3c"
      },
      "outputs": [
        {
          "output_type": "stream",
          "name": "stdout",
          "text": [
            "1\n",
            "2\n",
            "3\n",
            "4\n",
            "5\n"
          ]
        }
      ],
      "source": [
        "for number in nums:\n",
        "    print(number)"
      ]
    },
    {
      "cell_type": "code",
      "execution_count": 93,
      "metadata": {
        "colab": {
          "base_uri": "https://localhost:8080/"
        },
        "id": "-RHW3JL3qhW0",
        "outputId": "bbf7157b-6f17-4466-8866-78b15874ec5e"
      },
      "outputs": [
        {
          "output_type": "execute_result",
          "data": {
            "text/plain": [
              "range(0, 5)"
            ]
          },
          "metadata": {},
          "execution_count": 93
        }
      ],
      "source": [
        "range(5)"
      ]
    },
    {
      "cell_type": "code",
      "execution_count": 94,
      "metadata": {
        "colab": {
          "base_uri": "https://localhost:8080/"
        },
        "id": "H4Gd7hXxqhW0",
        "outputId": "936a5141-6961-4c9c-9a84-e10414a10b11"
      },
      "outputs": [
        {
          "output_type": "stream",
          "name": "stdout",
          "text": [
            "0\n",
            "1\n",
            "2\n",
            "3\n",
            "4\n"
          ]
        }
      ],
      "source": [
        "for index in range(5):\n",
        "    print(index)"
      ]
    },
    {
      "cell_type": "code",
      "execution_count": 95,
      "metadata": {
        "collapsed": true,
        "id": "g63EgqC7qhW0"
      },
      "outputs": [],
      "source": [
        "cage = {'Cat': '야옹', 'Dog': '멍멍', 'Tiger': '어흥'}"
      ]
    },
    {
      "cell_type": "code",
      "execution_count": 96,
      "metadata": {
        "colab": {
          "base_uri": "https://localhost:8080/"
        },
        "id": "TUp_neEaqhW1",
        "outputId": "90156abf-64b5-4f92-db92-8cfc373fafb9"
      },
      "outputs": [
        {
          "output_type": "stream",
          "name": "stdout",
          "text": [
            "('Cat', '야옹')\n",
            "('Dog', '멍멍')\n",
            "('Tiger', '어흥')\n"
          ]
        }
      ],
      "source": [
        "for item in cage.items():\n",
        "    print(item)"
      ]
    },
    {
      "cell_type": "code",
      "execution_count": 97,
      "metadata": {
        "id": "UcRaRRcGqhW1"
      },
      "outputs": [],
      "source": [
        "students = ['철수', '영희', '동수'] \n",
        "\n",
        "empty_list = []\n",
        "for student in students:\n",
        "    empty_list.append(student)"
      ]
    },
    {
      "cell_type": "code",
      "execution_count": 98,
      "metadata": {
        "colab": {
          "base_uri": "https://localhost:8080/"
        },
        "id": "QkhbJ_yfqhW1",
        "outputId": "2d185e9e-a682-46e0-b22d-b9b4c549e9ab"
      },
      "outputs": [
        {
          "output_type": "execute_result",
          "data": {
            "text/plain": [
              "['철수', '영희', '동수']"
            ]
          },
          "metadata": {},
          "execution_count": 98
        }
      ],
      "source": [
        "empty_list"
      ]
    },
    {
      "cell_type": "markdown",
      "metadata": {
        "id": "LESLV1eaqhW1"
      },
      "source": [
        "#### while"
      ]
    },
    {
      "cell_type": "code",
      "execution_count": 99,
      "metadata": {
        "colab": {
          "base_uri": "https://localhost:8080/"
        },
        "id": "-brPPQOLqhW1",
        "outputId": "d47dc70d-ba9d-45b1-88c0-93f176793972"
      },
      "outputs": [
        {
          "output_type": "stream",
          "name": "stdout",
          "text": [
            "1\n",
            "2\n",
            "3\n",
            "4\n",
            "5\n",
            "6\n",
            "7\n",
            "8\n",
            "9\n",
            "10\n"
          ]
        }
      ],
      "source": [
        "temp = 1\n",
        "while temp <= 10:\n",
        "    print(temp)\n",
        "    temp += 1"
      ]
    },
    {
      "cell_type": "code",
      "execution_count": null,
      "metadata": {
        "id": "k0W3qEIuqhW1"
      },
      "outputs": [],
      "source": [
        "# 무한 루프, Pass, Interrupting kernel\n",
        "\n",
        "while True:\n",
        "    pass"
      ]
    },
    {
      "cell_type": "code",
      "execution_count": 102,
      "metadata": {
        "collapsed": true,
        "id": "a8kMTbt3qhW2"
      },
      "outputs": [],
      "source": [
        "# Quiz 4. 점수(0~100)를 입력으로 받아 학점을 출력해주는 함수 grade를 만드세요."
      ]
    },
    {
      "cell_type": "code",
      "execution_count": 103,
      "metadata": {
        "collapsed": true,
        "id": "ZFoothNsqhW2"
      },
      "outputs": [],
      "source": [
        "def grade(score):\n",
        "    if score > 90:\n",
        "        print('A')\n",
        "    elif score > 80:\n",
        "        print('B')\n",
        "    elif score > 70:\n",
        "        print('C')\n",
        "    else:\n",
        "        print(\"F\")"
      ]
    },
    {
      "cell_type": "code",
      "execution_count": 104,
      "metadata": {
        "colab": {
          "base_uri": "https://localhost:8080/"
        },
        "id": "sWeKl1UIqhW2",
        "outputId": "729afe9a-7c25-4f5f-fcab-bdf7dea1a954"
      },
      "outputs": [
        {
          "output_type": "stream",
          "name": "stdout",
          "text": [
            "B\n"
          ]
        }
      ],
      "source": [
        "grade(87)"
      ]
    },
    {
      "cell_type": "code",
      "execution_count": 105,
      "metadata": {
        "collapsed": true,
        "id": "-V2O8LgRqhW2"
      },
      "outputs": [],
      "source": [
        "# Quiz 5. 3개의 숫자를 입력으로 받아, 가장 큰 수를 출력하는 함수 best 를 만드세요. (Hint. 리스트와 sort()를 활용해보세요.)"
      ]
    },
    {
      "cell_type": "code",
      "execution_count": 106,
      "metadata": {
        "collapsed": true,
        "id": "hgErzVjhqhW3"
      },
      "outputs": [],
      "source": [
        "def best(a, b, c):\n",
        "    temp = [a, b, c]\n",
        "    temp.sort(reverse=True)\n",
        "    print(temp[0])"
      ]
    },
    {
      "cell_type": "code",
      "execution_count": 107,
      "metadata": {
        "colab": {
          "base_uri": "https://localhost:8080/"
        },
        "id": "RDl0O4hpqhW3",
        "outputId": "8de2cc08-2a48-4581-95f2-43f5d91a11ac"
      },
      "outputs": [
        {
          "output_type": "stream",
          "name": "stdout",
          "text": [
            "100\n"
          ]
        }
      ],
      "source": [
        "best(20, 80, 100)"
      ]
    },
    {
      "cell_type": "code",
      "execution_count": 108,
      "metadata": {
        "collapsed": true,
        "id": "DQ6xaUn_qhW3"
      },
      "outputs": [],
      "source": [
        "# Quiz 6. 숫자 하나를 입력받아, 홀수면 \"odd\", 짝수면 \"even\"을 출력하는 함수 odd_or_even을 만드세요. (나머지 연산 명령어는?)"
      ]
    },
    {
      "cell_type": "code",
      "execution_count": 109,
      "metadata": {
        "collapsed": true,
        "id": "96vniAeNqhW3"
      },
      "outputs": [],
      "source": [
        "def odd_or_even(x):\n",
        "    if x % 2 == 0:\n",
        "        print(\"even\")\n",
        "    elif x % 2 == 1:\n",
        "        print(\"odd\")"
      ]
    },
    {
      "cell_type": "code",
      "execution_count": 110,
      "metadata": {
        "colab": {
          "base_uri": "https://localhost:8080/"
        },
        "id": "az00eqM0qhW3",
        "outputId": "ac09e6a3-acea-4848-f673-13ec45acfd62"
      },
      "outputs": [
        {
          "output_type": "stream",
          "name": "stdout",
          "text": [
            "odd\n"
          ]
        }
      ],
      "source": [
        "odd_or_even(9)"
      ]
    },
    {
      "cell_type": "code",
      "execution_count": 111,
      "metadata": {
        "collapsed": true,
        "id": "pp4vcSBMqhW3"
      },
      "outputs": [],
      "source": [
        "# Quiz 7. \"20180323sunny\" 와 같은 문자열을 입력받아, \"Year is 2018, Day is 0323, Weather is sunny\" 를 출력하는 함수 weather를 만드세요."
      ]
    },
    {
      "cell_type": "code",
      "execution_count": 112,
      "metadata": {
        "collapsed": true,
        "id": "-VnOF-0rqhW4"
      },
      "outputs": [],
      "source": [
        "def weather(string):\n",
        "    print(\"Year is {}, Day is {}, Weather is {}\".format(string[0:4], string[4:8], string[8:]))"
      ]
    },
    {
      "cell_type": "code",
      "execution_count": 113,
      "metadata": {
        "colab": {
          "base_uri": "https://localhost:8080/"
        },
        "id": "RXCpZtY2qhW4",
        "outputId": "5e19815f-e760-4143-88a6-495ddb77986a"
      },
      "outputs": [
        {
          "output_type": "stream",
          "name": "stdout",
          "text": [
            "Year is 2018, Day is 0323, Weather is still cold\n"
          ]
        }
      ],
      "source": [
        "weather('20180323still cold')"
      ]
    },
    {
      "cell_type": "markdown",
      "metadata": {
        "id": "QcqQkOSCqhW4"
      },
      "source": [
        "<br>\n",
        "\n",
        "#### 5. 파일 읽고 쓰기"
      ]
    },
    {
      "cell_type": "markdown",
      "metadata": {
        "id": "hrbZlBIkqhW4"
      },
      "source": [
        "#### 파일 쓰기"
      ]
    },
    {
      "cell_type": "code",
      "execution_count": 114,
      "metadata": {
        "collapsed": true,
        "id": "v1KGNybuqhW4"
      },
      "outputs": [],
      "source": [
        "file = open('cage.txt', 'w', encoding='utf-8')"
      ]
    },
    {
      "cell_type": "code",
      "execution_count": 115,
      "metadata": {
        "collapsed": true,
        "id": "JKpBYQ1aqhW4"
      },
      "outputs": [],
      "source": [
        "cage = ['Cat', 'Dog', 'Tiger']"
      ]
    },
    {
      "cell_type": "code",
      "execution_count": 117,
      "metadata": {
        "colab": {
          "base_uri": "https://localhost:8080/"
        },
        "id": "ic9wZ4xvqhW4",
        "outputId": "5fa8112e-8928-4176-e3ca-6de75e4e03b4"
      },
      "outputs": [
        {
          "output_type": "execute_result",
          "data": {
            "text/plain": [
              "23"
            ]
          },
          "metadata": {},
          "execution_count": 117
        }
      ],
      "source": [
        "file.write(str(cage)) # 에러가 발생했어요. 어떻게 해야할까요?"
      ]
    },
    {
      "cell_type": "code",
      "execution_count": 118,
      "metadata": {
        "collapsed": true,
        "id": "uOgRyL62qhW5"
      },
      "outputs": [],
      "source": [
        "for animal in cage:\n",
        "    file.write(animal)"
      ]
    },
    {
      "cell_type": "code",
      "execution_count": 119,
      "metadata": {
        "collapsed": true,
        "id": "1BpzGoirqhW5"
      },
      "outputs": [],
      "source": [
        "file.close()"
      ]
    },
    {
      "cell_type": "code",
      "execution_count": 121,
      "metadata": {
        "collapsed": true,
        "id": "bDZs-Tb4qhW5"
      },
      "outputs": [],
      "source": [
        "file = open('cage.txt', 'w', encoding='utf-8')"
      ]
    },
    {
      "cell_type": "code",
      "execution_count": 122,
      "metadata": {
        "collapsed": true,
        "id": "5P99BZVfqhW5"
      },
      "outputs": [],
      "source": [
        "for animal in cage:\n",
        "    file.write(animal + '\\n')"
      ]
    },
    {
      "cell_type": "code",
      "execution_count": 123,
      "metadata": {
        "collapsed": true,
        "id": "kMRikDZRqhW5"
      },
      "outputs": [],
      "source": [
        "file.close()"
      ]
    },
    {
      "cell_type": "code",
      "execution_count": 124,
      "metadata": {
        "collapsed": true,
        "id": "bsEBEIPXqhW5"
      },
      "outputs": [],
      "source": [
        "# with 과 함께 쓰기\n",
        "\n",
        "with open('cage.txt', 'w', encoding='utf-8') as file:\n",
        "    for animal in cage:\n",
        "        file.write(animal + '\\n')"
      ]
    },
    {
      "cell_type": "markdown",
      "metadata": {
        "id": "1x1HTA5MqhW5"
      },
      "source": [
        "#### 파일 읽기"
      ]
    },
    {
      "cell_type": "code",
      "execution_count": 125,
      "metadata": {
        "collapsed": true,
        "id": "It3SBbLOqhW6"
      },
      "outputs": [],
      "source": [
        "file = open('cage.txt', 'r', encoding='utf-8')"
      ]
    },
    {
      "cell_type": "code",
      "execution_count": 126,
      "metadata": {
        "colab": {
          "base_uri": "https://localhost:8080/"
        },
        "id": "erT1VvccqhW6",
        "outputId": "d6059ff4-c978-44fe-fb03-a76bd0758f60"
      },
      "outputs": [
        {
          "output_type": "execute_result",
          "data": {
            "text/plain": [
              "['Cat\\n', 'Dog\\n', 'Tiger\\n']"
            ]
          },
          "metadata": {},
          "execution_count": 126
        }
      ],
      "source": [
        "cage = file.readlines()\n",
        "cage"
      ]
    },
    {
      "cell_type": "code",
      "execution_count": 127,
      "metadata": {
        "colab": {
          "base_uri": "https://localhost:8080/"
        },
        "id": "iN6uCAwxqhW6",
        "outputId": "467b6b01-c5cd-49a3-c25d-0c26452ec0b5"
      },
      "outputs": [
        {
          "output_type": "stream",
          "name": "stdout",
          "text": [
            "Cat\n",
            "\n"
          ]
        }
      ],
      "source": [
        "print(cage[0])"
      ]
    },
    {
      "cell_type": "markdown",
      "metadata": {
        "id": "TSrIgEuYqhW6"
      },
      "source": [
        "<br>\n",
        "\n",
        "#### 6. Python 기본 내장함수와 외장함수"
      ]
    },
    {
      "cell_type": "code",
      "execution_count": 128,
      "metadata": {
        "colab": {
          "base_uri": "https://localhost:8080/"
        },
        "id": "xJ3qfQZ3qhW6",
        "outputId": "c1c63323-1249-40a4-d90c-1ce6a3587cd3"
      },
      "outputs": [
        {
          "output_type": "execute_result",
          "data": {
            "text/plain": [
              "6"
            ]
          },
          "metadata": {},
          "execution_count": 128
        }
      ],
      "source": [
        "len('Python')"
      ]
    },
    {
      "cell_type": "code",
      "execution_count": 129,
      "metadata": {
        "colab": {
          "base_uri": "https://localhost:8080/"
        },
        "id": "bz7t_g7XqhW7",
        "outputId": "90678828-b057-444c-c93a-e4a7d57b3661"
      },
      "outputs": [
        {
          "output_type": "execute_result",
          "data": {
            "text/plain": [
              "['P', 'y', 't', 'h', 'o', 'n']"
            ]
          },
          "metadata": {},
          "execution_count": 129
        }
      ],
      "source": [
        "list('Python')"
      ]
    },
    {
      "cell_type": "code",
      "execution_count": 130,
      "metadata": {
        "colab": {
          "base_uri": "https://localhost:8080/"
        },
        "id": "aDCBN0WjqhW7",
        "outputId": "6618a6b3-eaf1-4bb1-98b9-6d45b9e6cd31"
      },
      "outputs": [
        {
          "output_type": "execute_result",
          "data": {
            "text/plain": [
              "1.2"
            ]
          },
          "metadata": {},
          "execution_count": 130
        }
      ],
      "source": [
        "abs(-1.2)"
      ]
    },
    {
      "cell_type": "code",
      "execution_count": 131,
      "metadata": {
        "colab": {
          "base_uri": "https://localhost:8080/"
        },
        "id": "BdSWXEmKqhW7",
        "outputId": "dd7f5721-2793-4582-9780-c278f800fa7b"
      },
      "outputs": [
        {
          "output_type": "execute_result",
          "data": {
            "text/plain": [
              "2"
            ]
          },
          "metadata": {},
          "execution_count": 131
        }
      ],
      "source": [
        "round(1.7)"
      ]
    },
    {
      "cell_type": "code",
      "execution_count": 132,
      "metadata": {
        "colab": {
          "base_uri": "https://localhost:8080/"
        },
        "id": "XJdpCu6hqhW7",
        "outputId": "bc1c56b4-edac-4b05-89b6-652b1ae7c105"
      },
      "outputs": [
        {
          "output_type": "execute_result",
          "data": {
            "text/plain": [
              "True"
            ]
          },
          "metadata": {},
          "execution_count": 132
        }
      ],
      "source": [
        "bool(1)"
      ]
    },
    {
      "cell_type": "code",
      "execution_count": 133,
      "metadata": {
        "colab": {
          "base_uri": "https://localhost:8080/"
        },
        "id": "Jx6inCO-qhW7",
        "outputId": "0a6a2796-be49-4d43-e334-515df84674c5"
      },
      "outputs": [
        {
          "output_type": "execute_result",
          "data": {
            "text/plain": [
              "6"
            ]
          },
          "metadata": {},
          "execution_count": 133
        }
      ],
      "source": [
        "sum([1, 2, 3])"
      ]
    },
    {
      "cell_type": "code",
      "execution_count": 134,
      "metadata": {
        "colab": {
          "base_uri": "https://localhost:8080/"
        },
        "id": "SFe-zwjeqhW7",
        "outputId": "e54fed84-508b-44fe-f35a-e44e1e2de5f1"
      },
      "outputs": [
        {
          "output_type": "execute_result",
          "data": {
            "text/plain": [
              "3"
            ]
          },
          "metadata": {},
          "execution_count": 134
        }
      ],
      "source": [
        "max([1, 2, 3])"
      ]
    },
    {
      "cell_type": "code",
      "execution_count": 135,
      "metadata": {
        "colab": {
          "base_uri": "https://localhost:8080/"
        },
        "id": "8ERcwHQCqhW8",
        "outputId": "f5529c41-e840-45b2-e0a7-9866448b1cb3"
      },
      "outputs": [
        {
          "output_type": "execute_result",
          "data": {
            "text/plain": [
              "1"
            ]
          },
          "metadata": {},
          "execution_count": 135
        }
      ],
      "source": [
        "min([1, 2, 3])"
      ]
    },
    {
      "cell_type": "code",
      "execution_count": 136,
      "metadata": {
        "colab": {
          "base_uri": "https://localhost:8080/"
        },
        "id": "t3yOzs3QqhW8",
        "outputId": "5a06a162-16a0-4272-bc37-4849fe9ddab9"
      },
      "outputs": [
        {
          "output_type": "stream",
          "name": "stdout",
          "text": [
            "0\n",
            "10\n",
            "20\n",
            "30\n",
            "40\n",
            "50\n",
            "60\n",
            "70\n",
            "80\n",
            "90\n"
          ]
        }
      ],
      "source": [
        "for num in range(0, 100, 10):\n",
        "    print(num)"
      ]
    },
    {
      "cell_type": "code",
      "execution_count": 137,
      "metadata": {
        "collapsed": true,
        "id": "fbFbh4xoqhW8"
      },
      "outputs": [],
      "source": [
        "def func(x):\n",
        "    return x**2"
      ]
    },
    {
      "cell_type": "code",
      "execution_count": 138,
      "metadata": {
        "colab": {
          "base_uri": "https://localhost:8080/"
        },
        "id": "sKkw8slKqhW8",
        "outputId": "e30985fa-55ca-4ac7-9b91-544966bcb991"
      },
      "outputs": [
        {
          "output_type": "execute_result",
          "data": {
            "text/plain": [
              "25"
            ]
          },
          "metadata": {},
          "execution_count": 138
        }
      ],
      "source": [
        "func(5)"
      ]
    },
    {
      "cell_type": "code",
      "execution_count": 139,
      "metadata": {
        "collapsed": true,
        "id": "qbYqYYX8qhW8"
      },
      "outputs": [],
      "source": [
        "func = lambda x: x**2"
      ]
    },
    {
      "cell_type": "code",
      "execution_count": 140,
      "metadata": {
        "colab": {
          "base_uri": "https://localhost:8080/"
        },
        "id": "GAGkrxTQqhW8",
        "outputId": "998ae44d-e96e-4cf4-80d3-67ff74956fec"
      },
      "outputs": [
        {
          "output_type": "execute_result",
          "data": {
            "text/plain": [
              "25"
            ]
          },
          "metadata": {},
          "execution_count": 140
        }
      ],
      "source": [
        "func(5)"
      ]
    },
    {
      "cell_type": "markdown",
      "metadata": {
        "id": "a7aY9O9cqhW9"
      },
      "source": [
        "<br>\n",
        "\n",
        "#### 7. 라이브러리 활용하기 (Library == Package, Module(단일 .py)의 상위 개념 )"
      ]
    },
    {
      "cell_type": "code",
      "execution_count": 141,
      "metadata": {
        "collapsed": true,
        "id": "YDKF-0OJqhW9"
      },
      "outputs": [],
      "source": [
        "import numpy # import 라이브러리이름"
      ]
    },
    {
      "cell_type": "code",
      "execution_count": 142,
      "metadata": {
        "colab": {
          "base_uri": "https://localhost:8080/"
        },
        "id": "9H8BhQlDqhW9",
        "outputId": "2ee275e2-b05b-49be-e68a-1e64a3df2b65"
      },
      "outputs": [
        {
          "output_type": "execute_result",
          "data": {
            "text/plain": [
              "array([1, 2, 3])"
            ]
          },
          "metadata": {},
          "execution_count": 142
        }
      ],
      "source": [
        "a = numpy.array([1, 2, 3])\n",
        "a"
      ]
    },
    {
      "cell_type": "code",
      "execution_count": 143,
      "metadata": {
        "collapsed": true,
        "id": "aQNIykVJqhW9"
      },
      "outputs": [],
      "source": [
        "import numpy as np # import 라이브러리이름 as 별명"
      ]
    },
    {
      "cell_type": "code",
      "execution_count": 144,
      "metadata": {
        "colab": {
          "base_uri": "https://localhost:8080/"
        },
        "id": "mL0SnVYVqhW9",
        "outputId": "a468a774-bad3-4270-a5af-81a7e3c8ab69"
      },
      "outputs": [
        {
          "output_type": "execute_result",
          "data": {
            "text/plain": [
              "array([1, 2, 3])"
            ]
          },
          "metadata": {},
          "execution_count": 144
        }
      ],
      "source": [
        "a = np.array([1, 2, 3])\n",
        "a"
      ]
    },
    {
      "cell_type": "code",
      "execution_count": 145,
      "metadata": {
        "collapsed": true,
        "id": "uYVdD_odqhW9"
      },
      "outputs": [],
      "source": [
        "from numpy import array, ndarray # from 라이브러리이름 import 함수이름"
      ]
    },
    {
      "cell_type": "code",
      "execution_count": 146,
      "metadata": {
        "colab": {
          "base_uri": "https://localhost:8080/"
        },
        "id": "LNq9jQ1fqhW9",
        "outputId": "3c916d70-a6f2-47d5-80ff-165f0d585e85"
      },
      "outputs": [
        {
          "output_type": "execute_result",
          "data": {
            "text/plain": [
              "array([1, 2, 3])"
            ]
          },
          "metadata": {},
          "execution_count": 146
        }
      ],
      "source": [
        "a = array([1, 2, 3])\n",
        "a"
      ]
    },
    {
      "cell_type": "code",
      "execution_count": 147,
      "metadata": {
        "colab": {
          "base_uri": "https://localhost:8080/"
        },
        "id": "M2y9ZIb2qhW-",
        "outputId": "f33bf9c2-14f3-4281-cffc-d6140038a152"
      },
      "outputs": [
        {
          "output_type": "execute_result",
          "data": {
            "text/plain": [
              "0.2632547630501295"
            ]
          },
          "metadata": {},
          "execution_count": 147
        }
      ],
      "source": [
        "import random # 외장함수\n",
        "\n",
        "x = random.random()\n",
        "x"
      ]
    },
    {
      "cell_type": "code",
      "execution_count": 148,
      "metadata": {
        "colab": {
          "base_uri": "https://localhost:8080/"
        },
        "id": "iuzSTb_8qhW-",
        "outputId": "73370ecc-576e-4bb6-91a0-c8fc760335b2"
      },
      "outputs": [
        {
          "output_type": "execute_result",
          "data": {
            "text/plain": [
              "78"
            ]
          },
          "metadata": {},
          "execution_count": 148
        }
      ],
      "source": [
        "x = random.randint(1, 100)\n",
        "x"
      ]
    },
    {
      "cell_type": "code",
      "execution_count": 149,
      "metadata": {
        "collapsed": true,
        "colab": {
          "base_uri": "https://localhost:8080/",
          "height": 35
        },
        "id": "aZfB6hYxqhW-",
        "outputId": "915f1cf7-41a4-41b9-f630-0680f3f5163c"
      },
      "outputs": [
        {
          "output_type": "execute_result",
          "data": {
            "text/plain": [
              "'/content'"
            ],
            "application/vnd.google.colaboratory.intrinsic+json": {
              "type": "string"
            }
          },
          "metadata": {},
          "execution_count": 149
        }
      ],
      "source": [
        "import os # 외장함수\n",
        "\n",
        "os.getcwd()"
      ]
    },
    {
      "cell_type": "code",
      "execution_count": 149,
      "metadata": {
        "collapsed": true,
        "id": "9w_gg0LVqhW_"
      },
      "outputs": [],
      "source": []
    }
  ],
  "metadata": {
    "kernelspec": {
      "display_name": "Python 3",
      "language": "python",
      "name": "python3"
    },
    "language_info": {
      "codemirror_mode": {
        "name": "ipython",
        "version": 3
      },
      "file_extension": ".py",
      "mimetype": "text/x-python",
      "name": "python",
      "nbconvert_exporter": "python",
      "pygments_lexer": "ipython3",
      "version": "3.8.8"
    },
    "colab": {
      "provenance": [],
      "include_colab_link": true
    }
  },
  "nbformat": 4,
  "nbformat_minor": 0
}